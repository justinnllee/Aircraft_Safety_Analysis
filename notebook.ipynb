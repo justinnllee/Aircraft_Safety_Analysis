{
 "cells": [
  {
   "cell_type": "markdown",
   "metadata": {},
   "source": [
    "# Business Understanding"
   ]
  },
  {
   "cell_type": "markdown",
   "metadata": {},
   "source": [
    "Make this more tailored to my final answer\n",
    "\n",
    "Our stakholder is a company looking to purchase an aircraft of the lowest potential risk to use for commerical and private enterprises. I am charged with determining which aircraft is the lowest risk to start this new business endeavor. Stakeholders of this project could use this data in selecting to purchase the aircraft with the lowest risk from aviation accident data from 1962 to 2023. I aim to analzying the safest aircraft to purchase, the safest aircraft make to purchase, and finally the safest aircraft model to purchase. Safety in this dataset can be best measured through number of engines, lowest fatal injuries, lowest serious injuries and lowest minor injuries."
   ]
  },
  {
   "cell_type": "markdown",
   "metadata": {},
   "source": [
    "# Data Understanding"
   ]
  },
  {
   "cell_type": "markdown",
   "metadata": {},
   "source": [
    "Redo\n",
    "\n",
    "This data is from the National Transportation Safety Board that includes aviation accident data from 1962 to 2023 about civil aviation accidents and selected incidents in the United States and international waters. Each aviation accident has a unique event ID associated with it and contains additional information in each row from the type of aircraft, the make, the model, and any safety and injury metrics to account for. This dataset has 31 columns and 90348 rows. The column datatypes contain 5 floats and 26 objects. For relevance for this project I will clean up the data to include columns worth examining to solve my business understanding problem. Some initial limitations in this dataset include missing values, as only the Investigation.Type column contains the full 90348 rows. I will fill these NaN values based off how I see fit. For example, an NaN for an airplane under Number.of.Engines will be replaced with a 1 as airplanes need at least 1 engine and NaN values for injury counts will be filled with 0.0 as this probably means no injuries were reported."
   ]
  },
  {
   "cell_type": "code",
   "execution_count": 229,
   "metadata": {},
   "outputs": [],
   "source": [
    "import pandas as pd\n",
    "import numpy as np\n",
    "import seaborn as sns\n",
    "from matplotlib import pyplot as plt\n",
    "%matplotlib inline"
   ]
  },
  {
   "cell_type": "code",
   "execution_count": 338,
   "metadata": {},
   "outputs": [],
   "source": [
    "df = pd.read_csv('data/Aviation_Data.csv', low_memory=False)"
   ]
  },
  {
   "cell_type": "code",
   "execution_count": 339,
   "metadata": {},
   "outputs": [
    {
     "name": "stdout",
     "output_type": "stream",
     "text": [
      "<class 'pandas.core.frame.DataFrame'>\n",
      "RangeIndex: 90348 entries, 0 to 90347\n",
      "Data columns (total 31 columns):\n",
      " #   Column                  Non-Null Count  Dtype  \n",
      "---  ------                  --------------  -----  \n",
      " 0   Event.Id                88889 non-null  object \n",
      " 1   Investigation.Type      90348 non-null  object \n",
      " 2   Accident.Number         88889 non-null  object \n",
      " 3   Event.Date              88889 non-null  object \n",
      " 4   Location                88837 non-null  object \n",
      " 5   Country                 88663 non-null  object \n",
      " 6   Latitude                34382 non-null  object \n",
      " 7   Longitude               34373 non-null  object \n",
      " 8   Airport.Code            50249 non-null  object \n",
      " 9   Airport.Name            52790 non-null  object \n",
      " 10  Injury.Severity         87889 non-null  object \n",
      " 11  Aircraft.damage         85695 non-null  object \n",
      " 12  Aircraft.Category       32287 non-null  object \n",
      " 13  Registration.Number     87572 non-null  object \n",
      " 14  Make                    88826 non-null  object \n",
      " 15  Model                   88797 non-null  object \n",
      " 16  Amateur.Built           88787 non-null  object \n",
      " 17  Number.of.Engines       82805 non-null  float64\n",
      " 18  Engine.Type             81812 non-null  object \n",
      " 19  FAR.Description         32023 non-null  object \n",
      " 20  Schedule                12582 non-null  object \n",
      " 21  Purpose.of.flight       82697 non-null  object \n",
      " 22  Air.carrier             16648 non-null  object \n",
      " 23  Total.Fatal.Injuries    77488 non-null  float64\n",
      " 24  Total.Serious.Injuries  76379 non-null  float64\n",
      " 25  Total.Minor.Injuries    76956 non-null  float64\n",
      " 26  Total.Uninjured         82977 non-null  float64\n",
      " 27  Weather.Condition       84397 non-null  object \n",
      " 28  Broad.phase.of.flight   61724 non-null  object \n",
      " 29  Report.Status           82508 non-null  object \n",
      " 30  Publication.Date        73659 non-null  object \n",
      "dtypes: float64(5), object(26)\n",
      "memory usage: 21.4+ MB\n"
     ]
    }
   ],
   "source": [
    "df.info()"
   ]
  },
  {
   "cell_type": "code",
   "execution_count": 340,
   "metadata": {},
   "outputs": [
    {
     "data": {
      "text/html": [
       "<div>\n",
       "<style scoped>\n",
       "    .dataframe tbody tr th:only-of-type {\n",
       "        vertical-align: middle;\n",
       "    }\n",
       "\n",
       "    .dataframe tbody tr th {\n",
       "        vertical-align: top;\n",
       "    }\n",
       "\n",
       "    .dataframe thead th {\n",
       "        text-align: right;\n",
       "    }\n",
       "</style>\n",
       "<table border=\"1\" class=\"dataframe\">\n",
       "  <thead>\n",
       "    <tr style=\"text-align: right;\">\n",
       "      <th></th>\n",
       "      <th>Event.Id</th>\n",
       "      <th>Investigation.Type</th>\n",
       "      <th>Accident.Number</th>\n",
       "      <th>Event.Date</th>\n",
       "      <th>Location</th>\n",
       "      <th>Country</th>\n",
       "      <th>Latitude</th>\n",
       "      <th>Longitude</th>\n",
       "      <th>Airport.Code</th>\n",
       "      <th>Airport.Name</th>\n",
       "      <th>...</th>\n",
       "      <th>Purpose.of.flight</th>\n",
       "      <th>Air.carrier</th>\n",
       "      <th>Total.Fatal.Injuries</th>\n",
       "      <th>Total.Serious.Injuries</th>\n",
       "      <th>Total.Minor.Injuries</th>\n",
       "      <th>Total.Uninjured</th>\n",
       "      <th>Weather.Condition</th>\n",
       "      <th>Broad.phase.of.flight</th>\n",
       "      <th>Report.Status</th>\n",
       "      <th>Publication.Date</th>\n",
       "    </tr>\n",
       "  </thead>\n",
       "  <tbody>\n",
       "    <tr>\n",
       "      <th>0</th>\n",
       "      <td>20001218X45444</td>\n",
       "      <td>Accident</td>\n",
       "      <td>SEA87LA080</td>\n",
       "      <td>1948-10-24</td>\n",
       "      <td>MOOSE CREEK, ID</td>\n",
       "      <td>United States</td>\n",
       "      <td>NaN</td>\n",
       "      <td>NaN</td>\n",
       "      <td>NaN</td>\n",
       "      <td>NaN</td>\n",
       "      <td>...</td>\n",
       "      <td>Personal</td>\n",
       "      <td>NaN</td>\n",
       "      <td>2.0</td>\n",
       "      <td>0.0</td>\n",
       "      <td>0.0</td>\n",
       "      <td>0.0</td>\n",
       "      <td>UNK</td>\n",
       "      <td>Cruise</td>\n",
       "      <td>Probable Cause</td>\n",
       "      <td>NaN</td>\n",
       "    </tr>\n",
       "    <tr>\n",
       "      <th>1</th>\n",
       "      <td>20001218X45447</td>\n",
       "      <td>Accident</td>\n",
       "      <td>LAX94LA336</td>\n",
       "      <td>1962-07-19</td>\n",
       "      <td>BRIDGEPORT, CA</td>\n",
       "      <td>United States</td>\n",
       "      <td>NaN</td>\n",
       "      <td>NaN</td>\n",
       "      <td>NaN</td>\n",
       "      <td>NaN</td>\n",
       "      <td>...</td>\n",
       "      <td>Personal</td>\n",
       "      <td>NaN</td>\n",
       "      <td>4.0</td>\n",
       "      <td>0.0</td>\n",
       "      <td>0.0</td>\n",
       "      <td>0.0</td>\n",
       "      <td>UNK</td>\n",
       "      <td>Unknown</td>\n",
       "      <td>Probable Cause</td>\n",
       "      <td>19-09-1996</td>\n",
       "    </tr>\n",
       "    <tr>\n",
       "      <th>2</th>\n",
       "      <td>20061025X01555</td>\n",
       "      <td>Accident</td>\n",
       "      <td>NYC07LA005</td>\n",
       "      <td>1974-08-30</td>\n",
       "      <td>Saltville, VA</td>\n",
       "      <td>United States</td>\n",
       "      <td>36.922223</td>\n",
       "      <td>-81.878056</td>\n",
       "      <td>NaN</td>\n",
       "      <td>NaN</td>\n",
       "      <td>...</td>\n",
       "      <td>Personal</td>\n",
       "      <td>NaN</td>\n",
       "      <td>3.0</td>\n",
       "      <td>NaN</td>\n",
       "      <td>NaN</td>\n",
       "      <td>NaN</td>\n",
       "      <td>IMC</td>\n",
       "      <td>Cruise</td>\n",
       "      <td>Probable Cause</td>\n",
       "      <td>26-02-2007</td>\n",
       "    </tr>\n",
       "    <tr>\n",
       "      <th>3</th>\n",
       "      <td>20001218X45448</td>\n",
       "      <td>Accident</td>\n",
       "      <td>LAX96LA321</td>\n",
       "      <td>1977-06-19</td>\n",
       "      <td>EUREKA, CA</td>\n",
       "      <td>United States</td>\n",
       "      <td>NaN</td>\n",
       "      <td>NaN</td>\n",
       "      <td>NaN</td>\n",
       "      <td>NaN</td>\n",
       "      <td>...</td>\n",
       "      <td>Personal</td>\n",
       "      <td>NaN</td>\n",
       "      <td>2.0</td>\n",
       "      <td>0.0</td>\n",
       "      <td>0.0</td>\n",
       "      <td>0.0</td>\n",
       "      <td>IMC</td>\n",
       "      <td>Cruise</td>\n",
       "      <td>Probable Cause</td>\n",
       "      <td>12-09-2000</td>\n",
       "    </tr>\n",
       "    <tr>\n",
       "      <th>4</th>\n",
       "      <td>20041105X01764</td>\n",
       "      <td>Accident</td>\n",
       "      <td>CHI79FA064</td>\n",
       "      <td>1979-08-02</td>\n",
       "      <td>Canton, OH</td>\n",
       "      <td>United States</td>\n",
       "      <td>NaN</td>\n",
       "      <td>NaN</td>\n",
       "      <td>NaN</td>\n",
       "      <td>NaN</td>\n",
       "      <td>...</td>\n",
       "      <td>Personal</td>\n",
       "      <td>NaN</td>\n",
       "      <td>1.0</td>\n",
       "      <td>2.0</td>\n",
       "      <td>NaN</td>\n",
       "      <td>0.0</td>\n",
       "      <td>VMC</td>\n",
       "      <td>Approach</td>\n",
       "      <td>Probable Cause</td>\n",
       "      <td>16-04-1980</td>\n",
       "    </tr>\n",
       "  </tbody>\n",
       "</table>\n",
       "<p>5 rows × 31 columns</p>\n",
       "</div>"
      ],
      "text/plain": [
       "         Event.Id Investigation.Type Accident.Number  Event.Date  \\\n",
       "0  20001218X45444           Accident      SEA87LA080  1948-10-24   \n",
       "1  20001218X45447           Accident      LAX94LA336  1962-07-19   \n",
       "2  20061025X01555           Accident      NYC07LA005  1974-08-30   \n",
       "3  20001218X45448           Accident      LAX96LA321  1977-06-19   \n",
       "4  20041105X01764           Accident      CHI79FA064  1979-08-02   \n",
       "\n",
       "          Location        Country   Latitude   Longitude Airport.Code  \\\n",
       "0  MOOSE CREEK, ID  United States        NaN         NaN          NaN   \n",
       "1   BRIDGEPORT, CA  United States        NaN         NaN          NaN   \n",
       "2    Saltville, VA  United States  36.922223  -81.878056          NaN   \n",
       "3       EUREKA, CA  United States        NaN         NaN          NaN   \n",
       "4       Canton, OH  United States        NaN         NaN          NaN   \n",
       "\n",
       "  Airport.Name  ... Purpose.of.flight Air.carrier Total.Fatal.Injuries  \\\n",
       "0          NaN  ...          Personal         NaN                  2.0   \n",
       "1          NaN  ...          Personal         NaN                  4.0   \n",
       "2          NaN  ...          Personal         NaN                  3.0   \n",
       "3          NaN  ...          Personal         NaN                  2.0   \n",
       "4          NaN  ...          Personal         NaN                  1.0   \n",
       "\n",
       "  Total.Serious.Injuries Total.Minor.Injuries Total.Uninjured  \\\n",
       "0                    0.0                  0.0             0.0   \n",
       "1                    0.0                  0.0             0.0   \n",
       "2                    NaN                  NaN             NaN   \n",
       "3                    0.0                  0.0             0.0   \n",
       "4                    2.0                  NaN             0.0   \n",
       "\n",
       "  Weather.Condition  Broad.phase.of.flight   Report.Status Publication.Date  \n",
       "0               UNK                 Cruise  Probable Cause              NaN  \n",
       "1               UNK                Unknown  Probable Cause       19-09-1996  \n",
       "2               IMC                 Cruise  Probable Cause       26-02-2007  \n",
       "3               IMC                 Cruise  Probable Cause       12-09-2000  \n",
       "4               VMC               Approach  Probable Cause       16-04-1980  \n",
       "\n",
       "[5 rows x 31 columns]"
      ]
     },
     "execution_count": 340,
     "metadata": {},
     "output_type": "execute_result"
    }
   ],
   "source": [
    "df.head()"
   ]
  },
  {
   "cell_type": "code",
   "execution_count": 341,
   "metadata": {},
   "outputs": [
    {
     "data": {
      "text/html": [
       "<div>\n",
       "<style scoped>\n",
       "    .dataframe tbody tr th:only-of-type {\n",
       "        vertical-align: middle;\n",
       "    }\n",
       "\n",
       "    .dataframe tbody tr th {\n",
       "        vertical-align: top;\n",
       "    }\n",
       "\n",
       "    .dataframe thead th {\n",
       "        text-align: right;\n",
       "    }\n",
       "</style>\n",
       "<table border=\"1\" class=\"dataframe\">\n",
       "  <thead>\n",
       "    <tr style=\"text-align: right;\">\n",
       "      <th></th>\n",
       "      <th>Number.of.Engines</th>\n",
       "      <th>Total.Fatal.Injuries</th>\n",
       "      <th>Total.Serious.Injuries</th>\n",
       "      <th>Total.Minor.Injuries</th>\n",
       "      <th>Total.Uninjured</th>\n",
       "    </tr>\n",
       "  </thead>\n",
       "  <tbody>\n",
       "    <tr>\n",
       "      <th>count</th>\n",
       "      <td>82805.000000</td>\n",
       "      <td>77488.000000</td>\n",
       "      <td>76379.000000</td>\n",
       "      <td>76956.000000</td>\n",
       "      <td>82977.000000</td>\n",
       "    </tr>\n",
       "    <tr>\n",
       "      <th>mean</th>\n",
       "      <td>1.146585</td>\n",
       "      <td>0.647855</td>\n",
       "      <td>0.279881</td>\n",
       "      <td>0.357061</td>\n",
       "      <td>5.325440</td>\n",
       "    </tr>\n",
       "    <tr>\n",
       "      <th>std</th>\n",
       "      <td>0.446510</td>\n",
       "      <td>5.485960</td>\n",
       "      <td>1.544084</td>\n",
       "      <td>2.235625</td>\n",
       "      <td>27.913634</td>\n",
       "    </tr>\n",
       "    <tr>\n",
       "      <th>min</th>\n",
       "      <td>0.000000</td>\n",
       "      <td>0.000000</td>\n",
       "      <td>0.000000</td>\n",
       "      <td>0.000000</td>\n",
       "      <td>0.000000</td>\n",
       "    </tr>\n",
       "    <tr>\n",
       "      <th>25%</th>\n",
       "      <td>1.000000</td>\n",
       "      <td>0.000000</td>\n",
       "      <td>0.000000</td>\n",
       "      <td>0.000000</td>\n",
       "      <td>0.000000</td>\n",
       "    </tr>\n",
       "    <tr>\n",
       "      <th>50%</th>\n",
       "      <td>1.000000</td>\n",
       "      <td>0.000000</td>\n",
       "      <td>0.000000</td>\n",
       "      <td>0.000000</td>\n",
       "      <td>1.000000</td>\n",
       "    </tr>\n",
       "    <tr>\n",
       "      <th>75%</th>\n",
       "      <td>1.000000</td>\n",
       "      <td>0.000000</td>\n",
       "      <td>0.000000</td>\n",
       "      <td>0.000000</td>\n",
       "      <td>2.000000</td>\n",
       "    </tr>\n",
       "    <tr>\n",
       "      <th>max</th>\n",
       "      <td>8.000000</td>\n",
       "      <td>349.000000</td>\n",
       "      <td>161.000000</td>\n",
       "      <td>380.000000</td>\n",
       "      <td>699.000000</td>\n",
       "    </tr>\n",
       "  </tbody>\n",
       "</table>\n",
       "</div>"
      ],
      "text/plain": [
       "       Number.of.Engines  Total.Fatal.Injuries  Total.Serious.Injuries  \\\n",
       "count       82805.000000          77488.000000            76379.000000   \n",
       "mean            1.146585              0.647855                0.279881   \n",
       "std             0.446510              5.485960                1.544084   \n",
       "min             0.000000              0.000000                0.000000   \n",
       "25%             1.000000              0.000000                0.000000   \n",
       "50%             1.000000              0.000000                0.000000   \n",
       "75%             1.000000              0.000000                0.000000   \n",
       "max             8.000000            349.000000              161.000000   \n",
       "\n",
       "       Total.Minor.Injuries  Total.Uninjured  \n",
       "count          76956.000000     82977.000000  \n",
       "mean               0.357061         5.325440  \n",
       "std                2.235625        27.913634  \n",
       "min                0.000000         0.000000  \n",
       "25%                0.000000         0.000000  \n",
       "50%                0.000000         1.000000  \n",
       "75%                0.000000         2.000000  \n",
       "max              380.000000       699.000000  "
      ]
     },
     "execution_count": 341,
     "metadata": {},
     "output_type": "execute_result"
    }
   ],
   "source": [
    "df.describe()"
   ]
  },
  {
   "cell_type": "code",
   "execution_count": 342,
   "metadata": {},
   "outputs": [
    {
     "data": {
      "text/plain": [
       "Index(['Event.Id', 'Investigation.Type', 'Accident.Number', 'Event.Date',\n",
       "       'Location', 'Country', 'Latitude', 'Longitude', 'Airport.Code',\n",
       "       'Airport.Name', 'Injury.Severity', 'Aircraft.damage',\n",
       "       'Aircraft.Category', 'Registration.Number', 'Make', 'Model',\n",
       "       'Amateur.Built', 'Number.of.Engines', 'Engine.Type', 'FAR.Description',\n",
       "       'Schedule', 'Purpose.of.flight', 'Air.carrier', 'Total.Fatal.Injuries',\n",
       "       'Total.Serious.Injuries', 'Total.Minor.Injuries', 'Total.Uninjured',\n",
       "       'Weather.Condition', 'Broad.phase.of.flight', 'Report.Status',\n",
       "       'Publication.Date'],\n",
       "      dtype='object')"
      ]
     },
     "execution_count": 342,
     "metadata": {},
     "output_type": "execute_result"
    }
   ],
   "source": [
    "df.columns"
   ]
  },
  {
   "cell_type": "markdown",
   "metadata": {},
   "source": [
    "## Data Preparation"
   ]
  },
  {
   "cell_type": "markdown",
   "metadata": {},
   "source": [
    "Clean all columns again\n",
    "\n",
    "I will only be accounting for airline make and models that are in the United States, so I will be removing any rows that are not the United States. Because I am measuring off of total fatal injuries, total serious injuries, total minor injuries, total uninjured, and injury severity, I will remove unnecessary columns. In addition to this, I'll keep some conditions to track safety. These safety conditions to keep in mind are number of engines, engine type, amateur built, weather condition, and flight level.\n",
    "\n",
    "The reason I am only viewing the United States crashes is because there is low cardinality and low uniform data. Taking into account only US accidents will still give me a chance to analyze majority of the data in our dataframe."
   ]
  },
  {
   "cell_type": "code",
   "execution_count": 343,
   "metadata": {},
   "outputs": [
    {
     "data": {
      "text/plain": [
       "Index(['Event.Id', 'Investigation.Type', 'Accident.Number', 'Event.Date',\n",
       "       'Location', 'Country', 'Latitude', 'Longitude', 'Airport.Code',\n",
       "       'Airport.Name', 'Injury.Severity', 'Aircraft.damage',\n",
       "       'Aircraft.Category', 'Registration.Number', 'Make', 'Model',\n",
       "       'Amateur.Built', 'Number.of.Engines', 'Engine.Type', 'FAR.Description',\n",
       "       'Schedule', 'Purpose.of.flight', 'Air.carrier', 'Total.Fatal.Injuries',\n",
       "       'Total.Serious.Injuries', 'Total.Minor.Injuries', 'Total.Uninjured',\n",
       "       'Weather.Condition', 'Broad.phase.of.flight', 'Report.Status',\n",
       "       'Publication.Date'],\n",
       "      dtype='object')"
      ]
     },
     "execution_count": 343,
     "metadata": {},
     "output_type": "execute_result"
    }
   ],
   "source": [
    "#First I want to examine all columns in the data\n",
    "df.columns"
   ]
  },
  {
   "cell_type": "code",
   "execution_count": 344,
   "metadata": {
    "scrolled": true
   },
   "outputs": [
    {
     "data": {
      "text/plain": [
       "United States    82248\n",
       "Name: Country, dtype: int64"
      ]
     },
     "execution_count": 344,
     "metadata": {},
     "output_type": "execute_result"
    }
   ],
   "source": [
    "#Creating a dataframe that only shows airplane accidents in the United States\n",
    "df = df[df['Country'] == 'United States']\n",
    "df['Country'].value_counts()"
   ]
  },
  {
   "cell_type": "code",
   "execution_count": 345,
   "metadata": {},
   "outputs": [
    {
     "data": {
      "text/plain": [
       "Accident    79906\n",
       "Name: Investigation.Type, dtype: int64"
      ]
     },
     "execution_count": 345,
     "metadata": {},
     "output_type": "execute_result"
    }
   ],
   "source": [
    "df = df[df['Investigation.Type'] == 'Accident']\n",
    "df['Investigation.Type'].value_counts()"
   ]
  },
  {
   "cell_type": "code",
   "execution_count": 346,
   "metadata": {},
   "outputs": [
    {
     "data": {
      "text/plain": [
       "Airplane    23659\n",
       "Name: Aircraft.Category, dtype: int64"
      ]
     },
     "execution_count": 346,
     "metadata": {},
     "output_type": "execute_result"
    }
   ],
   "source": [
    "df = df[df['Aircraft.Category'] == 'Airplane']\n",
    "df['Aircraft.Category'].value_counts()"
   ]
  },
  {
   "cell_type": "code",
   "execution_count": 347,
   "metadata": {},
   "outputs": [
    {
     "data": {
      "text/plain": [
       "No    20564\n",
       "Name: Amateur.Built, dtype: int64"
      ]
     },
     "execution_count": 347,
     "metadata": {},
     "output_type": "execute_result"
    }
   ],
   "source": [
    "df = df[df['Amateur.Built'] == 'No']\n",
    "df['Amateur.Built'].value_counts()"
   ]
  },
  {
   "cell_type": "code",
   "execution_count": 348,
   "metadata": {},
   "outputs": [
    {
     "data": {
      "text/plain": [
       "1.0    17554\n",
       "2.0     2499\n",
       "4.0       38\n",
       "3.0       23\n",
       "6.0        1\n",
       "8.0        1\n",
       "Name: Number.of.Engines, dtype: int64"
      ]
     },
     "execution_count": 348,
     "metadata": {},
     "output_type": "execute_result"
    }
   ],
   "source": [
    "df = df[df['Number.of.Engines'] != 0.0]\n",
    "df['Number.of.Engines'].value_counts()"
   ]
  },
  {
   "cell_type": "code",
   "execution_count": 349,
   "metadata": {},
   "outputs": [
    {
     "data": {
      "text/plain": [
       "CESSNA                4211\n",
       "Cessna                3399\n",
       "PIPER                 2474\n",
       "Piper                 1797\n",
       "BEECH                  872\n",
       "Beech                  617\n",
       "BOEING                 228\n",
       "MOONEY                 215\n",
       "AIR TRACTOR INC        214\n",
       "CIRRUS DESIGN CORP     191\n",
       "Name: Make, dtype: int64"
      ]
     },
     "execution_count": 349,
     "metadata": {},
     "output_type": "execute_result"
    }
   ],
   "source": [
    "# Make all upper case\n",
    "df['Make'].value_counts().head(10)"
   ]
  },
  {
   "cell_type": "code",
   "execution_count": 350,
   "metadata": {},
   "outputs": [
    {
     "data": {
      "text/plain": [
       "CESSNA                7610\n",
       "PIPER                 4271\n",
       "BEECH                 1489\n",
       "MOONEY                 385\n",
       "BOEING                 336\n",
       "BELLANCA               278\n",
       "GRUMMAN                232\n",
       "MAULE                  225\n",
       "AERONCA                224\n",
       "AIR TRACTOR INC        216\n",
       "CIRRUS DESIGN CORP     193\n",
       "AIR TRACTOR            189\n",
       "CHAMPION               164\n",
       "LUSCOMBE               162\n",
       "STINSON                145\n",
       "NORTH AMERICAN         113\n",
       "TAYLORCRAFT            109\n",
       "AERO COMMANDER          95\n",
       "CIRRUS                  90\n",
       "DEHAVILLAND             90\n",
       "Name: Make, dtype: int64"
      ]
     },
     "execution_count": 350,
     "metadata": {},
     "output_type": "execute_result"
    }
   ],
   "source": [
    "df['Make'] = df['Make'].str.upper()\n",
    "df['Make'].value_counts().head(20)"
   ]
  },
  {
   "cell_type": "code",
   "execution_count": 351,
   "metadata": {},
   "outputs": [
    {
     "data": {
      "text/plain": [
       "CESSNA             7610\n",
       "PIPER              4271\n",
       "BEECH              1489\n",
       "MOONEY              385\n",
       "BOEING              336\n",
       "BELLANCA            278\n",
       "GRUMMAN             232\n",
       "MAULE               225\n",
       "AERONCA             224\n",
       "AIR TRACTOR INC     216\n",
       "Name: Make, dtype: int64"
      ]
     },
     "execution_count": 351,
     "metadata": {},
     "output_type": "execute_result"
    }
   ],
   "source": [
    "# Our purchaser only trusts data that has over 200 accidents reported\n",
    "top_10_values = df['Make'].value_counts().head(10).index\n",
    "\n",
    "df = df[df['Make'].isin(top_10_values)]\n",
    "df['Make'].value_counts()"
   ]
  },
  {
   "cell_type": "code",
   "execution_count": 352,
   "metadata": {},
   "outputs": [
    {
     "data": {
      "text/plain": [
       "Reciprocating    13448\n",
       "Name: Engine.Type, dtype: int64"
      ]
     },
     "execution_count": 352,
     "metadata": {},
     "output_type": "execute_result"
    }
   ],
   "source": [
    "df = df[df['Engine.Type'] == 'Reciprocating']\n",
    "df['Engine.Type'].value_counts()"
   ]
  },
  {
   "cell_type": "code",
   "execution_count": 353,
   "metadata": {},
   "outputs": [
    {
     "data": {
      "text/html": [
       "<div>\n",
       "<style scoped>\n",
       "    .dataframe tbody tr th:only-of-type {\n",
       "        vertical-align: middle;\n",
       "    }\n",
       "\n",
       "    .dataframe tbody tr th {\n",
       "        vertical-align: top;\n",
       "    }\n",
       "\n",
       "    .dataframe thead th {\n",
       "        text-align: right;\n",
       "    }\n",
       "</style>\n",
       "<table border=\"1\" class=\"dataframe\">\n",
       "  <thead>\n",
       "    <tr style=\"text-align: right;\">\n",
       "      <th></th>\n",
       "      <th>Investigation.Type</th>\n",
       "      <th>Country</th>\n",
       "      <th>Injury.Severity</th>\n",
       "      <th>Aircraft.Category</th>\n",
       "      <th>Make</th>\n",
       "      <th>Model</th>\n",
       "      <th>Amateur.Built</th>\n",
       "      <th>Number.of.Engines</th>\n",
       "      <th>Engine.Type</th>\n",
       "      <th>Total.Fatal.Injuries</th>\n",
       "      <th>Total.Serious.Injuries</th>\n",
       "      <th>Total.Minor.Injuries</th>\n",
       "      <th>Total.Uninjured</th>\n",
       "      <th>Broad.phase.of.flight</th>\n",
       "    </tr>\n",
       "  </thead>\n",
       "  <tbody>\n",
       "    <tr>\n",
       "      <th>7</th>\n",
       "      <td>Accident</td>\n",
       "      <td>United States</td>\n",
       "      <td>Non-Fatal</td>\n",
       "      <td>Airplane</td>\n",
       "      <td>CESSNA</td>\n",
       "      <td>140</td>\n",
       "      <td>No</td>\n",
       "      <td>1.0</td>\n",
       "      <td>Reciprocating</td>\n",
       "      <td>0.0</td>\n",
       "      <td>0.0</td>\n",
       "      <td>0.0</td>\n",
       "      <td>2.0</td>\n",
       "      <td>Takeoff</td>\n",
       "    </tr>\n",
       "    <tr>\n",
       "      <th>8</th>\n",
       "      <td>Accident</td>\n",
       "      <td>United States</td>\n",
       "      <td>Non-Fatal</td>\n",
       "      <td>Airplane</td>\n",
       "      <td>CESSNA</td>\n",
       "      <td>401B</td>\n",
       "      <td>No</td>\n",
       "      <td>2.0</td>\n",
       "      <td>Reciprocating</td>\n",
       "      <td>0.0</td>\n",
       "      <td>0.0</td>\n",
       "      <td>0.0</td>\n",
       "      <td>2.0</td>\n",
       "      <td>Landing</td>\n",
       "    </tr>\n",
       "    <tr>\n",
       "      <th>12</th>\n",
       "      <td>Accident</td>\n",
       "      <td>United States</td>\n",
       "      <td>Non-Fatal</td>\n",
       "      <td>Airplane</td>\n",
       "      <td>BELLANCA</td>\n",
       "      <td>17-30A</td>\n",
       "      <td>No</td>\n",
       "      <td>1.0</td>\n",
       "      <td>Reciprocating</td>\n",
       "      <td>0.0</td>\n",
       "      <td>0.0</td>\n",
       "      <td>1.0</td>\n",
       "      <td>0.0</td>\n",
       "      <td>Cruise</td>\n",
       "    </tr>\n",
       "    <tr>\n",
       "      <th>13</th>\n",
       "      <td>Accident</td>\n",
       "      <td>United States</td>\n",
       "      <td>Fatal(1)</td>\n",
       "      <td>Airplane</td>\n",
       "      <td>CESSNA</td>\n",
       "      <td>R172K</td>\n",
       "      <td>No</td>\n",
       "      <td>1.0</td>\n",
       "      <td>Reciprocating</td>\n",
       "      <td>1.0</td>\n",
       "      <td>0.0</td>\n",
       "      <td>0.0</td>\n",
       "      <td>0.0</td>\n",
       "      <td>Takeoff</td>\n",
       "    </tr>\n",
       "    <tr>\n",
       "      <th>15</th>\n",
       "      <td>Accident</td>\n",
       "      <td>United States</td>\n",
       "      <td>Fatal(2)</td>\n",
       "      <td>Airplane</td>\n",
       "      <td>BEECH</td>\n",
       "      <td>19</td>\n",
       "      <td>No</td>\n",
       "      <td>1.0</td>\n",
       "      <td>Reciprocating</td>\n",
       "      <td>2.0</td>\n",
       "      <td>0.0</td>\n",
       "      <td>0.0</td>\n",
       "      <td>0.0</td>\n",
       "      <td>Cruise</td>\n",
       "    </tr>\n",
       "  </tbody>\n",
       "</table>\n",
       "</div>"
      ],
      "text/plain": [
       "   Investigation.Type        Country Injury.Severity Aircraft.Category  \\\n",
       "7            Accident  United States       Non-Fatal          Airplane   \n",
       "8            Accident  United States       Non-Fatal          Airplane   \n",
       "12           Accident  United States       Non-Fatal          Airplane   \n",
       "13           Accident  United States        Fatal(1)          Airplane   \n",
       "15           Accident  United States        Fatal(2)          Airplane   \n",
       "\n",
       "        Make   Model Amateur.Built  Number.of.Engines    Engine.Type  \\\n",
       "7     CESSNA     140            No                1.0  Reciprocating   \n",
       "8     CESSNA    401B            No                2.0  Reciprocating   \n",
       "12  BELLANCA  17-30A            No                1.0  Reciprocating   \n",
       "13    CESSNA   R172K            No                1.0  Reciprocating   \n",
       "15     BEECH      19            No                1.0  Reciprocating   \n",
       "\n",
       "    Total.Fatal.Injuries  Total.Serious.Injuries  Total.Minor.Injuries  \\\n",
       "7                    0.0                     0.0                   0.0   \n",
       "8                    0.0                     0.0                   0.0   \n",
       "12                   0.0                     0.0                   1.0   \n",
       "13                   1.0                     0.0                   0.0   \n",
       "15                   2.0                     0.0                   0.0   \n",
       "\n",
       "    Total.Uninjured Broad.phase.of.flight  \n",
       "7               2.0               Takeoff  \n",
       "8               2.0               Landing  \n",
       "12              0.0                Cruise  \n",
       "13              0.0               Takeoff  \n",
       "15              0.0                Cruise  "
      ]
     },
     "execution_count": 353,
     "metadata": {},
     "output_type": "execute_result"
    }
   ],
   "source": [
    "# I will now remove unwanted columns\n",
    "cols_to_remove = ['Event.Id', 'Accident.Number', 'Event.Date', 'Location', 'Schedule', 'Purpose.of.flight',\n",
    "                  'Air.carrier', 'Weather.Condition', 'Aircraft.damage','Latitude', 'Longitude', 'Airport.Code',\n",
    "                  'Airport.Name','Registration.Number', 'FAR.Description', 'Report.Status', 'Publication.Date']\n",
    "df = df.drop(columns = cols_to_remove)\n",
    "df.head()"
   ]
  },
  {
   "cell_type": "code",
   "execution_count": 354,
   "metadata": {},
   "outputs": [
    {
     "name": "stdout",
     "output_type": "stream",
     "text": [
      "<class 'pandas.core.frame.DataFrame'>\n",
      "Int64Index: 13448 entries, 7 to 90120\n",
      "Data columns (total 14 columns):\n",
      " #   Column                  Non-Null Count  Dtype  \n",
      "---  ------                  --------------  -----  \n",
      " 0   Investigation.Type      13448 non-null  object \n",
      " 1   Country                 13448 non-null  object \n",
      " 2   Injury.Severity         13438 non-null  object \n",
      " 3   Aircraft.Category       13448 non-null  object \n",
      " 4   Make                    13448 non-null  object \n",
      " 5   Model                   13448 non-null  object \n",
      " 6   Amateur.Built           13448 non-null  object \n",
      " 7   Number.of.Engines       13320 non-null  float64\n",
      " 8   Engine.Type             13448 non-null  object \n",
      " 9   Total.Fatal.Injuries    13448 non-null  float64\n",
      " 10  Total.Serious.Injuries  13448 non-null  float64\n",
      " 11  Total.Minor.Injuries    13448 non-null  float64\n",
      " 12  Total.Uninjured         13448 non-null  float64\n",
      " 13  Broad.phase.of.flight   4514 non-null   object \n",
      "dtypes: float64(5), object(9)\n",
      "memory usage: 1.5+ MB\n"
     ]
    }
   ],
   "source": [
    "# Fill NaN values with 0.0 for total fatal/serious/minor and uninjured injuries\n",
    "df['Total.Fatal.Injuries'] = df['Total.Fatal.Injuries'].fillna(0.0)\n",
    "df['Total.Serious.Injuries'] = df['Total.Serious.Injuries'].fillna(0.0)\n",
    "df['Total.Minor.Injuries'] = df['Total.Minor.Injuries'].fillna(0.0)\n",
    "df['Total.Uninjured'] = df['Total.Uninjured'].fillna(0.0)\n",
    "\n",
    "df.info()"
   ]
  },
  {
   "cell_type": "markdown",
   "metadata": {},
   "source": [
    "# Exploratory Data Analysis"
   ]
  },
  {
   "cell_type": "markdown",
   "metadata": {},
   "source": [
    "First I plan on selecting the safest aircraft category by the number of engines. The more number of engines an aircraft has, the safer it is in flight. I'll create a bar chart that depicts number of engine per aircraft and fill NaN values as 1.0 because it is impossible for airplanes to fly without having at least 1 engine.\n",
    "\n",
    "Next I plan to examine the ratio of injury counts for each airplane make. The injury categories I'll measure by are total fatal injuries, total serious injuries, total minor injuries, and total uninjured. Visualizing this ratio will tell me which airplane make has the lowest injurity ratio.\n",
    "\n",
    "Lastly, I'll pick which model of the airplane's make has the lowest injury ratio. This is how I determine which airplane model is the safest to select.\n",
    "\n",
    "--\n",
    "\n",
    "Maybe look into best engine to use: based on number of engines, fatality count"
   ]
  },
  {
   "cell_type": "code",
   "execution_count": 355,
   "metadata": {},
   "outputs": [
    {
     "data": {
      "image/png": "[encoded data removed]",
      "text/plain": [
       "<Figure size 864x432 with 1 Axes>"
      ]
     },
     "metadata": {
      "needs_background": "light"
     },
     "output_type": "display_data"
    }
   ],
   "source": [
    "# Plot number of engines per make\n",
    "plt.figure(figsize=(12, 6))\n",
    "\n",
    "sns.barplot(x='Make', y='Number.of.Engines', data=df)\n",
    "\n",
    "plt.title('Number of Engines by Aircraft Make')\n",
    "plt.xlabel('Make')\n",
    "plt.ylabel('Number of Engines')\n",
    "\n",
    "plt.xticks(rotation=45, ha='right')\n",
    "\n",
    "plt.show()"
   ]
  },
  {
   "cell_type": "code",
   "execution_count": 367,
   "metadata": {
    "scrolled": true
   },
   "outputs": [
    {
     "data": {
      "image/png": "[encoded data removed]",
      "text/plain": [
       "<Figure size 864x432 with 1 Axes>"
      ]
     },
     "metadata": {
      "needs_background": "light"
     },
     "output_type": "display_data"
    }
   ],
   "source": [
    "# Plot total fatal injuries by make\n",
    "plt.figure(figsize=(12, 6))\n",
    "\n",
    "sns.barplot(x='Make', y='Total.Fatal.Injuries', data=df)\n",
    "\n",
    "plt.title('Number of Fatal Injuries by Make')\n",
    "plt.xlabel('Make')\n",
    "plt.ylabel('Number of Fatal Injuries')\n",
    "\n",
    "plt.xticks(rotation=45, ha='right')\n",
    "\n",
    "plt.show()"
   ]
  },
  {
   "cell_type": "code",
   "execution_count": 368,
   "metadata": {},
   "outputs": [
    {
     "data": {
      "image/png": "[encoded data removed]",
      "text/plain": [
       "<Figure size 864x432 with 1 Axes>"
      ]
     },
     "metadata": {
      "needs_background": "light"
     },
     "output_type": "display_data"
    }
   ],
   "source": [
    "# Plot total serious injuries by make\n",
    "plt.figure(figsize=(12, 6))\n",
    "\n",
    "sns.barplot(x='Make', y='Total.Serious.Injuries', data=df)\n",
    "\n",
    "plt.title('Number of Serious Injuries by Make')\n",
    "plt.xlabel('Make')\n",
    "plt.ylabel('Number of Serious Injuries')\n",
    "\n",
    "plt.xticks(rotation=45, ha='right')\n",
    "\n",
    "plt.show()"
   ]
  },
  {
   "cell_type": "code",
   "execution_count": 369,
   "metadata": {
    "scrolled": true
   },
   "outputs": [
    {
     "data": {
      "image/png": "[encoded data removed]",
      "text/plain": [
       "<Figure size 864x432 with 1 Axes>"
      ]
     },
     "metadata": {
      "needs_background": "light"
     },
     "output_type": "display_data"
    }
   ],
   "source": [
    "# Plot total minor injuries by make\n",
    "plt.figure(figsize=(12, 6))\n",
    "\n",
    "sns.barplot(x='Make', y='Total.Minor.Injuries', data=df)\n",
    "\n",
    "plt.title('Number of Minor Injuries by Make')\n",
    "plt.xlabel('Make')\n",
    "plt.ylabel('Number of Minor Injuries')\n",
    "\n",
    "plt.xticks(rotation=45, ha='right')\n",
    "\n",
    "plt.show()"
   ]
  },
  {
   "cell_type": "code",
   "execution_count": 370,
   "metadata": {},
   "outputs": [
    {
     "data": {
      "image/png": "[encoded data removed]",
      "text/plain": [
       "<Figure size 864x432 with 1 Axes>"
      ]
     },
     "metadata": {
      "needs_background": "light"
     },
     "output_type": "display_data"
    }
   ],
   "source": [
    "# Plot total uninjured by make\n",
    "plt.figure(figsize=(12, 6))\n",
    "\n",
    "sns.barplot(x='Make', y='Total.Uninjured', data=df)\n",
    "\n",
    "plt.title('Number of Uninjured by Make')\n",
    "plt.xlabel('Make')\n",
    "plt.ylabel('Number of Uninjured')\n",
    "\n",
    "plt.xticks(rotation=45, ha='right')\n",
    "\n",
    "plt.show()"
   ]
  },
  {
   "cell_type": "markdown",
   "metadata": {},
   "source": [
    "## Conclusions"
   ]
  },
  {
   "cell_type": "markdown",
   "metadata": {},
   "source": [
    "This analysis leads to three recommendations for selecting the lowest risk aircraft to purchase.\n",
    "\n",
    "1) Selecting to purchase an airplane is the lowest risk aircraft category. The airplanes have the highest number of engines on average per aircraft while also keeping mind sample size count. Safety is correlated having a higher number of engines.\n",
    "\n",
    "2) Of the airplane Makes, the Grumman Make had the lowest risk while keeping in mind a large enough sample size to gather analysis from. The Grumman Make had the lowest fatal and serious injury count ratios of any other airplane Make with a high data count. I weighed having a lower fatal and serious injury ratio greater than minor injuries.\n",
    "\n",
    "3) Of the Grumman Models, the G-164A model was the lowest risk. This was resulted from looking again at the fatal, serious and minor injury ratios for the top 10 models Grumman produces to analyze from a large enough sample size. I weighed in fatal and serious injuries greater than the minor injury ratio. The G-164A had the lowest ratio in the fatal and serious injury ratios comparative to other Grumman Models."
   ]
  },
  {
   "cell_type": "markdown",
   "metadata": {},
   "source": [
    "## Limitations"
   ]
  },
  {
   "cell_type": "markdown",
   "metadata": {},
   "source": [
    "The first limitation of this study was the criteria in selecting Makes and Models I was analyzing via sample size. I chose to only analyze the Makes and Models based on the top 10 highest counts of each column. I chose this method due to needing a large enough sample size to base my decisions off of. If I were to take into account all Makes and Models in my analysis it would have shown me thousands of rows. I could determine a better method next time in filtering my analysis down.\n",
    "\n",
    "The second limitation of this study was the missing NaN values. For each NaN value I replaced I based it off of context clues of how I would imagine what an NaN value in the respective column would mean. For example, any NaN value in an injury count column was replaced with 0.0 to indiciate no injuries occurred. I replaced any NaN value in number of engines as 1.0 as airplanes need at least 1 engine to operate. Having no missing values at the start of my data would present me with more accurate findings. \n",
    "\n",
    "The last limitation to my study was the columns I was analyzing on. I chose to only analyze US air incidents at the start, it accounted for majoriy of my data, but it does leave out other country incidents in my analysis. I then chose to measure safety by number of engines when there were other categories to explore, such as amateur built, engine type, or weather condition. Then I only looked into the injury counts for fatal, serious and minor to measure the safest airplane Make and Model. Other conditions I could analyze to bring me to my final decision were similar categories in amateur built, engine type, or weather conditions."
   ]
  },
  {
   "cell_type": "markdown",
   "metadata": {},
   "source": [
    "## Next Steps"
   ]
  },
  {
   "cell_type": "markdown",
   "metadata": {},
   "source": [
    "Further analysis could yield additional insights to further improve our selection of the lowest risk aircraft:\n",
    "\n",
    "1) Better division of injury counts. We have fatal, serious and minor count categories but there can be better division of data to get more specific instances on analyzing each accident's injury count/severity.\n",
    "\n",
    "2) More data/sample sizes on other aircraft categories to analyze. This data was heavy on the airplane data accidents, it did not give enough additional data to make choices about our other aircraft categories.\n",
    "\n",
    "3) Including other categories that we can use to measure safety conditions. This modeling could give us a more detailed decision on the aircraft that is the lowest risk to purchase as safety is highly correlated to having a lower risk."
   ]
  }
 ],
 "metadata": {
  "kernelspec": {
   "display_name": "Python (learn-env)",
   "language": "python",
   "name": "learn-env"
  },
  "language_info": {
   "codemirror_mode": {
    "name": "ipython",
    "version": 3
   },
   "file_extension": ".py",
   "mimetype": "text/x-python",
   "name": "python",
   "nbconvert_exporter": "python",
   "pygments_lexer": "ipython3",
   "version": "3.8.5"
  }
 },
 "nbformat": 4,
 "nbformat_minor": 4
}
