{
 "cells": [
  {
   "cell_type": "markdown",
   "metadata": {},
   "source": [
    "# Business Understanding"
   ]
  },
  {
   "cell_type": "markdown",
   "metadata": {},
   "source": [
    "Justin Lee\n",
    "\n",
    "This notebook is for a company named Embraer, a Brazilian airline company that produces private jets in addition to commerical aircrafts, looking to enter the U.S. market by purchasing an aircraft of the lowest potential risk.\n",
    "\n",
    "Embraer requests that we only analyze accidents or airplanes with a reciprocating engine type that occurred in the United States. The make cannot be an amateur build and Embraer only relies on data with the top ten highest count of sample data. Embraer is not looking to purchase an airplane that is used for commercial enterprises."
   ]
  },
  {
   "cell_type": "markdown",
   "metadata": {},
   "source": [
    "# Data Understanding"
   ]
  },
  {
   "cell_type": "markdown",
   "metadata": {},
   "source": [
    "This data is from the National Transportation Safety Board that includes aviation accident data from 1962 to 2023 about civil aviation accidents and selected incidents in the United States and international waters. Each aviation accident has a unique event ID associated with it and contains additional information in each row from the type of aircraft, the make, the model, and any safety and injury metrics to account for. \n",
    "\n",
    "This dataset has 31 columns and 90348 rows. The column datatypes contain 5 floats and 26 objects. For relevance for this project I will clean up the data to include columns worth examining to solve my business understanding problem. \n",
    "\n",
    "Some initial limitations in this dataset include missing values, as only the Investigation.Type column contains the full 90348 rows. I will fill these NaN values based off how I see fit. For example, an NaN for an airplane under Number.of.Engines will be replaced with a 1 as airplanes need at least 1 engine and NaN values for injury counts will be filled with 0.0 as this probably means no injuries were reported."
   ]
  },
  {
   "cell_type": "code",
   "execution_count": 1,
   "metadata": {},
   "outputs": [],
   "source": [
    "import pandas as pd\n",
    "import numpy as np\n",
    "import seaborn as sns\n",
    "from matplotlib import pyplot as plt\n",
    "%matplotlib inline"
   ]
  },
  {
   "cell_type": "code",
   "execution_count": 2,
   "metadata": {},
   "outputs": [],
   "source": [
    "# low_memory=False tells pandas to process the entire input at once resulting in faster processing\n",
    "df = pd.read_csv('data/Aviation_Data.csv', low_memory=False)"
   ]
  },
  {
   "cell_type": "code",
   "execution_count": 3,
   "metadata": {},
   "outputs": [
    {
     "name": "stdout",
     "output_type": "stream",
     "text": [
      "<class 'pandas.core.frame.DataFrame'>\n",
      "RangeIndex: 90348 entries, 0 to 90347\n",
      "Data columns (total 31 columns):\n",
      " #   Column                  Non-Null Count  Dtype  \n",
      "---  ------                  --------------  -----  \n",
      " 0   Event.Id                88889 non-null  object \n",
      " 1   Investigation.Type      90348 non-null  object \n",
      " 2   Accident.Number         88889 non-null  object \n",
      " 3   Event.Date              88889 non-null  object \n",
      " 4   Location                88837 non-null  object \n",
      " 5   Country                 88663 non-null  object \n",
      " 6   Latitude                34382 non-null  object \n",
      " 7   Longitude               34373 non-null  object \n",
      " 8   Airport.Code            50249 non-null  object \n",
      " 9   Airport.Name            52790 non-null  object \n",
      " 10  Injury.Severity         87889 non-null  object \n",
      " 11  Aircraft.damage         85695 non-null  object \n",
      " 12  Aircraft.Category       32287 non-null  object \n",
      " 13  Registration.Number     87572 non-null  object \n",
      " 14  Make                    88826 non-null  object \n",
      " 15  Model                   88797 non-null  object \n",
      " 16  Amateur.Built           88787 non-null  object \n",
      " 17  Number.of.Engines       82805 non-null  float64\n",
      " 18  Engine.Type             81812 non-null  object \n",
      " 19  FAR.Description         32023 non-null  object \n",
      " 20  Schedule                12582 non-null  object \n",
      " 21  Purpose.of.flight       82697 non-null  object \n",
      " 22  Air.carrier             16648 non-null  object \n",
      " 23  Total.Fatal.Injuries    77488 non-null  float64\n",
      " 24  Total.Serious.Injuries  76379 non-null  float64\n",
      " 25  Total.Minor.Injuries    76956 non-null  float64\n",
      " 26  Total.Uninjured         82977 non-null  float64\n",
      " 27  Weather.Condition       84397 non-null  object \n",
      " 28  Broad.phase.of.flight   61724 non-null  object \n",
      " 29  Report.Status           82508 non-null  object \n",
      " 30  Publication.Date        73659 non-null  object \n",
      "dtypes: float64(5), object(26)\n",
      "memory usage: 21.4+ MB\n"
     ]
    }
   ],
   "source": [
    "df.info()"
   ]
  },
  {
   "cell_type": "code",
   "execution_count": 4,
   "metadata": {},
   "outputs": [
    {
     "data": {
      "text/html": [
       "<div>\n",
       "<style scoped>\n",
       "    .dataframe tbody tr th:only-of-type {\n",
       "        vertical-align: middle;\n",
       "    }\n",
       "\n",
       "    .dataframe tbody tr th {\n",
       "        vertical-align: top;\n",
       "    }\n",
       "\n",
       "    .dataframe thead th {\n",
       "        text-align: right;\n",
       "    }\n",
       "</style>\n",
       "<table border=\"1\" class=\"dataframe\">\n",
       "  <thead>\n",
       "    <tr style=\"text-align: right;\">\n",
       "      <th></th>\n",
       "      <th>Event.Id</th>\n",
       "      <th>Investigation.Type</th>\n",
       "      <th>Accident.Number</th>\n",
       "      <th>Event.Date</th>\n",
       "      <th>Location</th>\n",
       "      <th>Country</th>\n",
       "      <th>Latitude</th>\n",
       "      <th>Longitude</th>\n",
       "      <th>Airport.Code</th>\n",
       "      <th>Airport.Name</th>\n",
       "      <th>...</th>\n",
       "      <th>Purpose.of.flight</th>\n",
       "      <th>Air.carrier</th>\n",
       "      <th>Total.Fatal.Injuries</th>\n",
       "      <th>Total.Serious.Injuries</th>\n",
       "      <th>Total.Minor.Injuries</th>\n",
       "      <th>Total.Uninjured</th>\n",
       "      <th>Weather.Condition</th>\n",
       "      <th>Broad.phase.of.flight</th>\n",
       "      <th>Report.Status</th>\n",
       "      <th>Publication.Date</th>\n",
       "    </tr>\n",
       "  </thead>\n",
       "  <tbody>\n",
       "    <tr>\n",
       "      <th>0</th>\n",
       "      <td>20001218X45444</td>\n",
       "      <td>Accident</td>\n",
       "      <td>SEA87LA080</td>\n",
       "      <td>1948-10-24</td>\n",
       "      <td>MOOSE CREEK, ID</td>\n",
       "      <td>United States</td>\n",
       "      <td>NaN</td>\n",
       "      <td>NaN</td>\n",
       "      <td>NaN</td>\n",
       "      <td>NaN</td>\n",
       "      <td>...</td>\n",
       "      <td>Personal</td>\n",
       "      <td>NaN</td>\n",
       "      <td>2.0</td>\n",
       "      <td>0.0</td>\n",
       "      <td>0.0</td>\n",
       "      <td>0.0</td>\n",
       "      <td>UNK</td>\n",
       "      <td>Cruise</td>\n",
       "      <td>Probable Cause</td>\n",
       "      <td>NaN</td>\n",
       "    </tr>\n",
       "    <tr>\n",
       "      <th>1</th>\n",
       "      <td>20001218X45447</td>\n",
       "      <td>Accident</td>\n",
       "      <td>LAX94LA336</td>\n",
       "      <td>1962-07-19</td>\n",
       "      <td>BRIDGEPORT, CA</td>\n",
       "      <td>United States</td>\n",
       "      <td>NaN</td>\n",
       "      <td>NaN</td>\n",
       "      <td>NaN</td>\n",
       "      <td>NaN</td>\n",
       "      <td>...</td>\n",
       "      <td>Personal</td>\n",
       "      <td>NaN</td>\n",
       "      <td>4.0</td>\n",
       "      <td>0.0</td>\n",
       "      <td>0.0</td>\n",
       "      <td>0.0</td>\n",
       "      <td>UNK</td>\n",
       "      <td>Unknown</td>\n",
       "      <td>Probable Cause</td>\n",
       "      <td>19-09-1996</td>\n",
       "    </tr>\n",
       "    <tr>\n",
       "      <th>2</th>\n",
       "      <td>20061025X01555</td>\n",
       "      <td>Accident</td>\n",
       "      <td>NYC07LA005</td>\n",
       "      <td>1974-08-30</td>\n",
       "      <td>Saltville, VA</td>\n",
       "      <td>United States</td>\n",
       "      <td>36.922223</td>\n",
       "      <td>-81.878056</td>\n",
       "      <td>NaN</td>\n",
       "      <td>NaN</td>\n",
       "      <td>...</td>\n",
       "      <td>Personal</td>\n",
       "      <td>NaN</td>\n",
       "      <td>3.0</td>\n",
       "      <td>NaN</td>\n",
       "      <td>NaN</td>\n",
       "      <td>NaN</td>\n",
       "      <td>IMC</td>\n",
       "      <td>Cruise</td>\n",
       "      <td>Probable Cause</td>\n",
       "      <td>26-02-2007</td>\n",
       "    </tr>\n",
       "    <tr>\n",
       "      <th>3</th>\n",
       "      <td>20001218X45448</td>\n",
       "      <td>Accident</td>\n",
       "      <td>LAX96LA321</td>\n",
       "      <td>1977-06-19</td>\n",
       "      <td>EUREKA, CA</td>\n",
       "      <td>United States</td>\n",
       "      <td>NaN</td>\n",
       "      <td>NaN</td>\n",
       "      <td>NaN</td>\n",
       "      <td>NaN</td>\n",
       "      <td>...</td>\n",
       "      <td>Personal</td>\n",
       "      <td>NaN</td>\n",
       "      <td>2.0</td>\n",
       "      <td>0.0</td>\n",
       "      <td>0.0</td>\n",
       "      <td>0.0</td>\n",
       "      <td>IMC</td>\n",
       "      <td>Cruise</td>\n",
       "      <td>Probable Cause</td>\n",
       "      <td>12-09-2000</td>\n",
       "    </tr>\n",
       "    <tr>\n",
       "      <th>4</th>\n",
       "      <td>20041105X01764</td>\n",
       "      <td>Accident</td>\n",
       "      <td>CHI79FA064</td>\n",
       "      <td>1979-08-02</td>\n",
       "      <td>Canton, OH</td>\n",
       "      <td>United States</td>\n",
       "      <td>NaN</td>\n",
       "      <td>NaN</td>\n",
       "      <td>NaN</td>\n",
       "      <td>NaN</td>\n",
       "      <td>...</td>\n",
       "      <td>Personal</td>\n",
       "      <td>NaN</td>\n",
       "      <td>1.0</td>\n",
       "      <td>2.0</td>\n",
       "      <td>NaN</td>\n",
       "      <td>0.0</td>\n",
       "      <td>VMC</td>\n",
       "      <td>Approach</td>\n",
       "      <td>Probable Cause</td>\n",
       "      <td>16-04-1980</td>\n",
       "    </tr>\n",
       "  </tbody>\n",
       "</table>\n",
       "<p>5 rows × 31 columns</p>\n",
       "</div>"
      ],
      "text/plain": [
       "         Event.Id Investigation.Type Accident.Number  Event.Date  \\\n",
       "0  20001218X45444           Accident      SEA87LA080  1948-10-24   \n",
       "1  20001218X45447           Accident      LAX94LA336  1962-07-19   \n",
       "2  20061025X01555           Accident      NYC07LA005  1974-08-30   \n",
       "3  20001218X45448           Accident      LAX96LA321  1977-06-19   \n",
       "4  20041105X01764           Accident      CHI79FA064  1979-08-02   \n",
       "\n",
       "          Location        Country   Latitude   Longitude Airport.Code  \\\n",
       "0  MOOSE CREEK, ID  United States        NaN         NaN          NaN   \n",
       "1   BRIDGEPORT, CA  United States        NaN         NaN          NaN   \n",
       "2    Saltville, VA  United States  36.922223  -81.878056          NaN   \n",
       "3       EUREKA, CA  United States        NaN         NaN          NaN   \n",
       "4       Canton, OH  United States        NaN         NaN          NaN   \n",
       "\n",
       "  Airport.Name  ... Purpose.of.flight Air.carrier Total.Fatal.Injuries  \\\n",
       "0          NaN  ...          Personal         NaN                  2.0   \n",
       "1          NaN  ...          Personal         NaN                  4.0   \n",
       "2          NaN  ...          Personal         NaN                  3.0   \n",
       "3          NaN  ...          Personal         NaN                  2.0   \n",
       "4          NaN  ...          Personal         NaN                  1.0   \n",
       "\n",
       "  Total.Serious.Injuries Total.Minor.Injuries Total.Uninjured  \\\n",
       "0                    0.0                  0.0             0.0   \n",
       "1                    0.0                  0.0             0.0   \n",
       "2                    NaN                  NaN             NaN   \n",
       "3                    0.0                  0.0             0.0   \n",
       "4                    2.0                  NaN             0.0   \n",
       "\n",
       "  Weather.Condition  Broad.phase.of.flight   Report.Status Publication.Date  \n",
       "0               UNK                 Cruise  Probable Cause              NaN  \n",
       "1               UNK                Unknown  Probable Cause       19-09-1996  \n",
       "2               IMC                 Cruise  Probable Cause       26-02-2007  \n",
       "3               IMC                 Cruise  Probable Cause       12-09-2000  \n",
       "4               VMC               Approach  Probable Cause       16-04-1980  \n",
       "\n",
       "[5 rows x 31 columns]"
      ]
     },
     "execution_count": 4,
     "metadata": {},
     "output_type": "execute_result"
    }
   ],
   "source": [
    "df.head()"
   ]
  },
  {
   "cell_type": "code",
   "execution_count": 5,
   "metadata": {},
   "outputs": [
    {
     "data": {
      "text/html": [
       "<div>\n",
       "<style scoped>\n",
       "    .dataframe tbody tr th:only-of-type {\n",
       "        vertical-align: middle;\n",
       "    }\n",
       "\n",
       "    .dataframe tbody tr th {\n",
       "        vertical-align: top;\n",
       "    }\n",
       "\n",
       "    .dataframe thead th {\n",
       "        text-align: right;\n",
       "    }\n",
       "</style>\n",
       "<table border=\"1\" class=\"dataframe\">\n",
       "  <thead>\n",
       "    <tr style=\"text-align: right;\">\n",
       "      <th></th>\n",
       "      <th>Number.of.Engines</th>\n",
       "      <th>Total.Fatal.Injuries</th>\n",
       "      <th>Total.Serious.Injuries</th>\n",
       "      <th>Total.Minor.Injuries</th>\n",
       "      <th>Total.Uninjured</th>\n",
       "    </tr>\n",
       "  </thead>\n",
       "  <tbody>\n",
       "    <tr>\n",
       "      <th>count</th>\n",
       "      <td>82805.000000</td>\n",
       "      <td>77488.000000</td>\n",
       "      <td>76379.000000</td>\n",
       "      <td>76956.000000</td>\n",
       "      <td>82977.000000</td>\n",
       "    </tr>\n",
       "    <tr>\n",
       "      <th>mean</th>\n",
       "      <td>1.146585</td>\n",
       "      <td>0.647855</td>\n",
       "      <td>0.279881</td>\n",
       "      <td>0.357061</td>\n",
       "      <td>5.325440</td>\n",
       "    </tr>\n",
       "    <tr>\n",
       "      <th>std</th>\n",
       "      <td>0.446510</td>\n",
       "      <td>5.485960</td>\n",
       "      <td>1.544084</td>\n",
       "      <td>2.235625</td>\n",
       "      <td>27.913634</td>\n",
       "    </tr>\n",
       "    <tr>\n",
       "      <th>min</th>\n",
       "      <td>0.000000</td>\n",
       "      <td>0.000000</td>\n",
       "      <td>0.000000</td>\n",
       "      <td>0.000000</td>\n",
       "      <td>0.000000</td>\n",
       "    </tr>\n",
       "    <tr>\n",
       "      <th>25%</th>\n",
       "      <td>1.000000</td>\n",
       "      <td>0.000000</td>\n",
       "      <td>0.000000</td>\n",
       "      <td>0.000000</td>\n",
       "      <td>0.000000</td>\n",
       "    </tr>\n",
       "    <tr>\n",
       "      <th>50%</th>\n",
       "      <td>1.000000</td>\n",
       "      <td>0.000000</td>\n",
       "      <td>0.000000</td>\n",
       "      <td>0.000000</td>\n",
       "      <td>1.000000</td>\n",
       "    </tr>\n",
       "    <tr>\n",
       "      <th>75%</th>\n",
       "      <td>1.000000</td>\n",
       "      <td>0.000000</td>\n",
       "      <td>0.000000</td>\n",
       "      <td>0.000000</td>\n",
       "      <td>2.000000</td>\n",
       "    </tr>\n",
       "    <tr>\n",
       "      <th>max</th>\n",
       "      <td>8.000000</td>\n",
       "      <td>349.000000</td>\n",
       "      <td>161.000000</td>\n",
       "      <td>380.000000</td>\n",
       "      <td>699.000000</td>\n",
       "    </tr>\n",
       "  </tbody>\n",
       "</table>\n",
       "</div>"
      ],
      "text/plain": [
       "       Number.of.Engines  Total.Fatal.Injuries  Total.Serious.Injuries  \\\n",
       "count       82805.000000          77488.000000            76379.000000   \n",
       "mean            1.146585              0.647855                0.279881   \n",
       "std             0.446510              5.485960                1.544084   \n",
       "min             0.000000              0.000000                0.000000   \n",
       "25%             1.000000              0.000000                0.000000   \n",
       "50%             1.000000              0.000000                0.000000   \n",
       "75%             1.000000              0.000000                0.000000   \n",
       "max             8.000000            349.000000              161.000000   \n",
       "\n",
       "       Total.Minor.Injuries  Total.Uninjured  \n",
       "count          76956.000000     82977.000000  \n",
       "mean               0.357061         5.325440  \n",
       "std                2.235625        27.913634  \n",
       "min                0.000000         0.000000  \n",
       "25%                0.000000         0.000000  \n",
       "50%                0.000000         1.000000  \n",
       "75%                0.000000         2.000000  \n",
       "max              380.000000       699.000000  "
      ]
     },
     "execution_count": 5,
     "metadata": {},
     "output_type": "execute_result"
    }
   ],
   "source": [
    "df.describe()"
   ]
  },
  {
   "cell_type": "markdown",
   "metadata": {},
   "source": [
    "## Data Preparation"
   ]
  },
  {
   "cell_type": "markdown",
   "metadata": {},
   "source": [
    "To filter my data to my stakeholder's specific requests, I've narrowed my data down to just airplane accidents with reciprocating engines that were not amateur built that occurred in the United States. Additionally, my stakeholder only trusts data with over 200 counts of sample data. I've narrowed down this as well. This data will help me determine the lowest risk Make for my stakeholder to purchase."
   ]
  },
  {
   "cell_type": "code",
   "execution_count": 6,
   "metadata": {},
   "outputs": [
    {
     "data": {
      "text/plain": [
       "Index(['Event.Id', 'Investigation.Type', 'Accident.Number', 'Event.Date',\n",
       "       'Location', 'Country', 'Latitude', 'Longitude', 'Airport.Code',\n",
       "       'Airport.Name', 'Injury.Severity', 'Aircraft.damage',\n",
       "       'Aircraft.Category', 'Registration.Number', 'Make', 'Model',\n",
       "       'Amateur.Built', 'Number.of.Engines', 'Engine.Type', 'FAR.Description',\n",
       "       'Schedule', 'Purpose.of.flight', 'Air.carrier', 'Total.Fatal.Injuries',\n",
       "       'Total.Serious.Injuries', 'Total.Minor.Injuries', 'Total.Uninjured',\n",
       "       'Weather.Condition', 'Broad.phase.of.flight', 'Report.Status',\n",
       "       'Publication.Date'],\n",
       "      dtype='object')"
      ]
     },
     "execution_count": 6,
     "metadata": {},
     "output_type": "execute_result"
    }
   ],
   "source": [
    "# First I want to examine all columns in the data\n",
    "df.columns"
   ]
  },
  {
   "cell_type": "code",
   "execution_count": 7,
   "metadata": {
    "scrolled": true
   },
   "outputs": [
    {
     "data": {
      "text/plain": [
       "United States    82248\n",
       "Name: Country, dtype: int64"
      ]
     },
     "execution_count": 7,
     "metadata": {},
     "output_type": "execute_result"
    }
   ],
   "source": [
    "# Creating a dataframe that only shows airplane accidents in the United States\n",
    "df = df[df['Country'] == 'United States']\n",
    "df['Country'].value_counts()"
   ]
  },
  {
   "cell_type": "code",
   "execution_count": 8,
   "metadata": {},
   "outputs": [
    {
     "data": {
      "text/plain": [
       "Accident    79906\n",
       "Name: Investigation.Type, dtype: int64"
      ]
     },
     "execution_count": 8,
     "metadata": {},
     "output_type": "execute_result"
    }
   ],
   "source": [
    "# Narrowing the dataframe to show only Accidents\n",
    "df = df[df['Investigation.Type'] == 'Accident']\n",
    "df['Investigation.Type'].value_counts()"
   ]
  },
  {
   "cell_type": "code",
   "execution_count": 9,
   "metadata": {},
   "outputs": [
    {
     "data": {
      "text/plain": [
       "Airplane    23659\n",
       "Name: Aircraft.Category, dtype: int64"
      ]
     },
     "execution_count": 9,
     "metadata": {},
     "output_type": "execute_result"
    }
   ],
   "source": [
    "# Narrowing the dataframe to show only Airplanes\n",
    "df = df[df['Aircraft.Category'] == 'Airplane']\n",
    "df['Aircraft.Category'].value_counts()"
   ]
  },
  {
   "cell_type": "code",
   "execution_count": 10,
   "metadata": {},
   "outputs": [
    {
     "data": {
      "text/plain": [
       "No    20564\n",
       "Name: Amateur.Built, dtype: int64"
      ]
     },
     "execution_count": 10,
     "metadata": {},
     "output_type": "execute_result"
    }
   ],
   "source": [
    "# Narrowing the dataframe to show only non-amateur builds\n",
    "df = df[df['Amateur.Built'] == 'No']\n",
    "df['Amateur.Built'].value_counts()"
   ]
  },
  {
   "cell_type": "code",
   "execution_count": 11,
   "metadata": {},
   "outputs": [
    {
     "data": {
      "text/plain": [
       "1.0    17554\n",
       "2.0     2499\n",
       "4.0       38\n",
       "3.0       23\n",
       "6.0        1\n",
       "8.0        1\n",
       "Name: Number.of.Engines, dtype: int64"
      ]
     },
     "execution_count": 11,
     "metadata": {},
     "output_type": "execute_result"
    }
   ],
   "source": [
    "# Narrowing the dataframe to remove rows where there are no engines present\n",
    "df = df[df['Number.of.Engines'] != 0.0]\n",
    "df['Number.of.Engines'].value_counts()"
   ]
  },
  {
   "cell_type": "code",
   "execution_count": 12,
   "metadata": {},
   "outputs": [
    {
     "data": {
      "text/plain": [
       "CESSNA                4211\n",
       "Cessna                3399\n",
       "PIPER                 2474\n",
       "Piper                 1797\n",
       "BEECH                  872\n",
       "Beech                  617\n",
       "BOEING                 228\n",
       "MOONEY                 215\n",
       "AIR TRACTOR INC        214\n",
       "CIRRUS DESIGN CORP     191\n",
       "Name: Make, dtype: int64"
      ]
     },
     "execution_count": 12,
     "metadata": {},
     "output_type": "execute_result"
    }
   ],
   "source": [
    "df['Make'].value_counts().head(10)"
   ]
  },
  {
   "cell_type": "code",
   "execution_count": 13,
   "metadata": {},
   "outputs": [
    {
     "data": {
      "text/plain": [
       "CESSNA                7610\n",
       "PIPER                 4271\n",
       "BEECH                 1489\n",
       "MOONEY                 385\n",
       "BOEING                 336\n",
       "BELLANCA               278\n",
       "GRUMMAN                232\n",
       "MAULE                  225\n",
       "AERONCA                224\n",
       "AIR TRACTOR INC        216\n",
       "CIRRUS DESIGN CORP     193\n",
       "AIR TRACTOR            189\n",
       "CHAMPION               164\n",
       "LUSCOMBE               162\n",
       "STINSON                145\n",
       "NORTH AMERICAN         113\n",
       "TAYLORCRAFT            109\n",
       "AERO COMMANDER          95\n",
       "CIRRUS                  90\n",
       "DEHAVILLAND             90\n",
       "Name: Make, dtype: int64"
      ]
     },
     "execution_count": 13,
     "metadata": {},
     "output_type": "execute_result"
    }
   ],
   "source": [
    "# Make all upper case to account for cases like CESSNA vs Cessna\n",
    "df['Make'] = df['Make'].str.upper()\n",
    "df['Make'].value_counts().head(20)"
   ]
  },
  {
   "cell_type": "code",
   "execution_count": 14,
   "metadata": {},
   "outputs": [
    {
     "data": {
      "text/plain": [
       "CESSNA             7610\n",
       "PIPER              4271\n",
       "BEECH              1489\n",
       "MOONEY              385\n",
       "BOEING              336\n",
       "BELLANCA            278\n",
       "GRUMMAN             232\n",
       "MAULE               225\n",
       "AERONCA             224\n",
       "AIR TRACTOR INC     216\n",
       "Name: Make, dtype: int64"
      ]
     },
     "execution_count": 14,
     "metadata": {},
     "output_type": "execute_result"
    }
   ],
   "source": [
    "# My stakeholder only trusts the top ten amounts of data\n",
    "# Even though my stakeholder is not interested in commerical enterprises, we will leave Boeing in this dataset and disregard as a conclusion\n",
    "top_10_values = df['Make'].value_counts().head(10).index\n",
    "\n",
    "df = df[df['Make'].isin(top_10_values)]\n",
    "df['Make'].value_counts()"
   ]
  },
  {
   "cell_type": "code",
   "execution_count": 15,
   "metadata": {},
   "outputs": [
    {
     "data": {
      "text/plain": [
       "Reciprocating    13448\n",
       "Name: Engine.Type, dtype: int64"
      ]
     },
     "execution_count": 15,
     "metadata": {},
     "output_type": "execute_result"
    }
   ],
   "source": [
    "# Narrowing the dataframe to show only reciprocating engine types\n",
    "df = df[df['Engine.Type'] == 'Reciprocating']\n",
    "df['Engine.Type'].value_counts()"
   ]
  },
  {
   "cell_type": "code",
   "execution_count": 16,
   "metadata": {},
   "outputs": [
    {
     "data": {
      "text/html": [
       "<div>\n",
       "<style scoped>\n",
       "    .dataframe tbody tr th:only-of-type {\n",
       "        vertical-align: middle;\n",
       "    }\n",
       "\n",
       "    .dataframe tbody tr th {\n",
       "        vertical-align: top;\n",
       "    }\n",
       "\n",
       "    .dataframe thead th {\n",
       "        text-align: right;\n",
       "    }\n",
       "</style>\n",
       "<table border=\"1\" class=\"dataframe\">\n",
       "  <thead>\n",
       "    <tr style=\"text-align: right;\">\n",
       "      <th></th>\n",
       "      <th>Investigation.Type</th>\n",
       "      <th>Country</th>\n",
       "      <th>Injury.Severity</th>\n",
       "      <th>Aircraft.Category</th>\n",
       "      <th>Make</th>\n",
       "      <th>Model</th>\n",
       "      <th>Amateur.Built</th>\n",
       "      <th>Number.of.Engines</th>\n",
       "      <th>Engine.Type</th>\n",
       "      <th>Total.Fatal.Injuries</th>\n",
       "      <th>Total.Serious.Injuries</th>\n",
       "      <th>Total.Minor.Injuries</th>\n",
       "      <th>Total.Uninjured</th>\n",
       "      <th>Broad.phase.of.flight</th>\n",
       "    </tr>\n",
       "  </thead>\n",
       "  <tbody>\n",
       "    <tr>\n",
       "      <th>7</th>\n",
       "      <td>Accident</td>\n",
       "      <td>United States</td>\n",
       "      <td>Non-Fatal</td>\n",
       "      <td>Airplane</td>\n",
       "      <td>CESSNA</td>\n",
       "      <td>140</td>\n",
       "      <td>No</td>\n",
       "      <td>1.0</td>\n",
       "      <td>Reciprocating</td>\n",
       "      <td>0.0</td>\n",
       "      <td>0.0</td>\n",
       "      <td>0.0</td>\n",
       "      <td>2.0</td>\n",
       "      <td>Takeoff</td>\n",
       "    </tr>\n",
       "    <tr>\n",
       "      <th>8</th>\n",
       "      <td>Accident</td>\n",
       "      <td>United States</td>\n",
       "      <td>Non-Fatal</td>\n",
       "      <td>Airplane</td>\n",
       "      <td>CESSNA</td>\n",
       "      <td>401B</td>\n",
       "      <td>No</td>\n",
       "      <td>2.0</td>\n",
       "      <td>Reciprocating</td>\n",
       "      <td>0.0</td>\n",
       "      <td>0.0</td>\n",
       "      <td>0.0</td>\n",
       "      <td>2.0</td>\n",
       "      <td>Landing</td>\n",
       "    </tr>\n",
       "    <tr>\n",
       "      <th>12</th>\n",
       "      <td>Accident</td>\n",
       "      <td>United States</td>\n",
       "      <td>Non-Fatal</td>\n",
       "      <td>Airplane</td>\n",
       "      <td>BELLANCA</td>\n",
       "      <td>17-30A</td>\n",
       "      <td>No</td>\n",
       "      <td>1.0</td>\n",
       "      <td>Reciprocating</td>\n",
       "      <td>0.0</td>\n",
       "      <td>0.0</td>\n",
       "      <td>1.0</td>\n",
       "      <td>0.0</td>\n",
       "      <td>Cruise</td>\n",
       "    </tr>\n",
       "    <tr>\n",
       "      <th>13</th>\n",
       "      <td>Accident</td>\n",
       "      <td>United States</td>\n",
       "      <td>Fatal(1)</td>\n",
       "      <td>Airplane</td>\n",
       "      <td>CESSNA</td>\n",
       "      <td>R172K</td>\n",
       "      <td>No</td>\n",
       "      <td>1.0</td>\n",
       "      <td>Reciprocating</td>\n",
       "      <td>1.0</td>\n",
       "      <td>0.0</td>\n",
       "      <td>0.0</td>\n",
       "      <td>0.0</td>\n",
       "      <td>Takeoff</td>\n",
       "    </tr>\n",
       "    <tr>\n",
       "      <th>15</th>\n",
       "      <td>Accident</td>\n",
       "      <td>United States</td>\n",
       "      <td>Fatal(2)</td>\n",
       "      <td>Airplane</td>\n",
       "      <td>BEECH</td>\n",
       "      <td>19</td>\n",
       "      <td>No</td>\n",
       "      <td>1.0</td>\n",
       "      <td>Reciprocating</td>\n",
       "      <td>2.0</td>\n",
       "      <td>0.0</td>\n",
       "      <td>0.0</td>\n",
       "      <td>0.0</td>\n",
       "      <td>Cruise</td>\n",
       "    </tr>\n",
       "  </tbody>\n",
       "</table>\n",
       "</div>"
      ],
      "text/plain": [
       "   Investigation.Type        Country Injury.Severity Aircraft.Category  \\\n",
       "7            Accident  United States       Non-Fatal          Airplane   \n",
       "8            Accident  United States       Non-Fatal          Airplane   \n",
       "12           Accident  United States       Non-Fatal          Airplane   \n",
       "13           Accident  United States        Fatal(1)          Airplane   \n",
       "15           Accident  United States        Fatal(2)          Airplane   \n",
       "\n",
       "        Make   Model Amateur.Built  Number.of.Engines    Engine.Type  \\\n",
       "7     CESSNA     140            No                1.0  Reciprocating   \n",
       "8     CESSNA    401B            No                2.0  Reciprocating   \n",
       "12  BELLANCA  17-30A            No                1.0  Reciprocating   \n",
       "13    CESSNA   R172K            No                1.0  Reciprocating   \n",
       "15     BEECH      19            No                1.0  Reciprocating   \n",
       "\n",
       "    Total.Fatal.Injuries  Total.Serious.Injuries  Total.Minor.Injuries  \\\n",
       "7                    0.0                     0.0                   0.0   \n",
       "8                    0.0                     0.0                   0.0   \n",
       "12                   0.0                     0.0                   1.0   \n",
       "13                   1.0                     0.0                   0.0   \n",
       "15                   2.0                     0.0                   0.0   \n",
       "\n",
       "    Total.Uninjured Broad.phase.of.flight  \n",
       "7               2.0               Takeoff  \n",
       "8               2.0               Landing  \n",
       "12              0.0                Cruise  \n",
       "13              0.0               Takeoff  \n",
       "15              0.0                Cruise  "
      ]
     },
     "execution_count": 16,
     "metadata": {},
     "output_type": "execute_result"
    }
   ],
   "source": [
    "# I will now remove unwanted columns irrelevant to help me make my conclusion\n",
    "cols_to_remove = ['Event.Id', 'Accident.Number', 'Event.Date', 'Location', 'Schedule', 'Purpose.of.flight',\n",
    "                  'Air.carrier', 'Weather.Condition', 'Aircraft.damage','Latitude', 'Longitude', 'Airport.Code',\n",
    "                  'Airport.Name','Registration.Number', 'FAR.Description', 'Report.Status', 'Publication.Date']\n",
    "df = df.drop(columns = cols_to_remove)\n",
    "df.head()"
   ]
  },
  {
   "cell_type": "code",
   "execution_count": 17,
   "metadata": {},
   "outputs": [
    {
     "name": "stdout",
     "output_type": "stream",
     "text": [
      "<class 'pandas.core.frame.DataFrame'>\n",
      "Int64Index: 13448 entries, 7 to 90120\n",
      "Data columns (total 14 columns):\n",
      " #   Column                  Non-Null Count  Dtype  \n",
      "---  ------                  --------------  -----  \n",
      " 0   Investigation.Type      13448 non-null  object \n",
      " 1   Country                 13448 non-null  object \n",
      " 2   Injury.Severity         13438 non-null  object \n",
      " 3   Aircraft.Category       13448 non-null  object \n",
      " 4   Make                    13448 non-null  object \n",
      " 5   Model                   13448 non-null  object \n",
      " 6   Amateur.Built           13448 non-null  object \n",
      " 7   Number.of.Engines       13320 non-null  float64\n",
      " 8   Engine.Type             13448 non-null  object \n",
      " 9   Total.Fatal.Injuries    13448 non-null  float64\n",
      " 10  Total.Serious.Injuries  13448 non-null  float64\n",
      " 11  Total.Minor.Injuries    13448 non-null  float64\n",
      " 12  Total.Uninjured         13448 non-null  float64\n",
      " 13  Broad.phase.of.flight   4514 non-null   object \n",
      "dtypes: float64(5), object(9)\n",
      "memory usage: 1.5+ MB\n"
     ]
    }
   ],
   "source": [
    "# Fill NaN values with 0.0 for total fatal/serious/minor and uninjured injuries\n",
    "df['Total.Fatal.Injuries'] = df['Total.Fatal.Injuries'].fillna(0.0)\n",
    "df['Total.Serious.Injuries'] = df['Total.Serious.Injuries'].fillna(0.0)\n",
    "df['Total.Minor.Injuries'] = df['Total.Minor.Injuries'].fillna(0.0)\n",
    "df['Total.Uninjured'] = df['Total.Uninjured'].fillna(0.0)\n",
    "\n",
    "df.info()"
   ]
  },
  {
   "cell_type": "markdown",
   "metadata": {},
   "source": [
    "# Exploratory Data Analysis"
   ]
  },
  {
   "cell_type": "markdown",
   "metadata": {},
   "source": [
    "Determining the lowest risk Make can be best determined by analyzing the average number of engines per Make (typically a higher number of engines correlates to a lower risk), the average number of fatal injuries per Make accident, the average number of serious injuries per Make accident, the average number of minor injuries per Make accident, and the average number of uninjured per Make accident. The following visualizations depict the Makes with over 200 rows of accident data in relation to each category being compared."
   ]
  },
  {
   "cell_type": "markdown",
   "metadata": {},
   "source": [
    "### Plot of Average Number of Engines per Make"
   ]
  },
  {
   "cell_type": "markdown",
   "metadata": {},
   "source": [
    "Embraer only trusts Makes with more than one engine on average. From this graph we can see that Cessna, Beech, Grumman, Piper and Boeing average more than one engine. We can disregard Boeing as Embraer is only interested in private enterprise Makes."
   ]
  },
  {
   "cell_type": "code",
   "execution_count": 18,
   "metadata": {},
   "outputs": [
    {
     "data": {
      "image/png": "[encoded data removed]",
      "text/plain": [
       "<Figure size 864x432 with 1 Axes>"
      ]
     },
     "metadata": {
      "needs_background": "light"
     },
     "output_type": "display_data"
    }
   ],
   "source": [
    "# Plot number of engines per make\n",
    "plt.figure(figsize=(12, 6))\n",
    "\n",
    "sns.barplot(x='Make', y='Number.of.Engines', data=df)\n",
    "\n",
    "plt.title('Average Number of Engines by Aircraft Make')\n",
    "plt.xlabel('Make')\n",
    "plt.ylabel('Average Number of Engines')\n",
    "\n",
    "plt.xticks(rotation=45, ha='right')\n",
    "\n",
    "plt.show()"
   ]
  },
  {
   "cell_type": "markdown",
   "metadata": {},
   "source": [
    "### Plots of Average Injuries per Make"
   ]
  },
  {
   "cell_type": "markdown",
   "metadata": {},
   "source": [
    "Of the four makes average more than one engine, the Beech Make has the highest on average fatal injuries reported. Outside of the engine count, the Mooney Make is showing the second highest on average fatal injuries reported."
   ]
  },
  {
   "cell_type": "code",
   "execution_count": 19,
   "metadata": {
    "scrolled": true
   },
   "outputs": [
    {
     "data": {
      "image/png": "[encoded data removed]",
      "text/plain": [
       "<Figure size 864x432 with 1 Axes>"
      ]
     },
     "metadata": {
      "needs_background": "light"
     },
     "output_type": "display_data"
    }
   ],
   "source": [
    "# Plot average total fatal injuries per make\n",
    "plt.figure(figsize=(12, 6))\n",
    "\n",
    "sns.barplot(x='Make', y='Total.Fatal.Injuries', data=df)\n",
    "\n",
    "plt.title('Average Number of Fatal Injuries by Make')\n",
    "plt.xlabel('Make')\n",
    "plt.ylabel('Average Number of Fatal Injuries')\n",
    "\n",
    "plt.xticks(rotation=45, ha='right')\n",
    "\n",
    "plt.show()"
   ]
  },
  {
   "cell_type": "markdown",
   "metadata": {},
   "source": [
    "Of the four Makes averaging more than one engine, Cessnas reported the lowest average serious injury count. The Grumman Make reported the highest average count and had the largest interquartile range. Following the Grumman Make in average serious injury counts were the Aeronica and Mooney Makes."
   ]
  },
  {
   "cell_type": "code",
   "execution_count": 20,
   "metadata": {},
   "outputs": [
    {
     "data": {
      "image/png": "[encoded data removed]",
      "text/plain": [
       "<Figure size 864x432 with 1 Axes>"
      ]
     },
     "metadata": {
      "needs_background": "light"
     },
     "output_type": "display_data"
    }
   ],
   "source": [
    "# Plot average total serious injuries per make\n",
    "plt.figure(figsize=(12, 6))\n",
    "\n",
    "sns.barplot(x='Make', y='Total.Serious.Injuries', data=df)\n",
    "\n",
    "plt.title('Average Number of Serious Injuries by Make')\n",
    "plt.xlabel('Make')\n",
    "plt.ylabel('Average Number of Serious Injuries')\n",
    "\n",
    "plt.xticks(rotation=45, ha='right')\n",
    "\n",
    "plt.show()"
   ]
  },
  {
   "cell_type": "markdown",
   "metadata": {},
   "source": [
    "Besides the Maule Make, which averages one engine, the Cessna had the lowest on average minor injury count. The Mooney Make had the highest on average count, followed by the Grumman and the Aeronica Makes."
   ]
  },
  {
   "cell_type": "code",
   "execution_count": 21,
   "metadata": {
    "scrolled": true
   },
   "outputs": [
    {
     "data": {
      "image/png": "[encoded data removed]",
      "text/plain": [
       "<Figure size 864x432 with 1 Axes>"
      ]
     },
     "metadata": {
      "needs_background": "light"
     },
     "output_type": "display_data"
    }
   ],
   "source": [
    "# Plot average total minor injuries per make\n",
    "plt.figure(figsize=(12, 6))\n",
    "\n",
    "sns.barplot(x='Make', y='Total.Minor.Injuries', data=df)\n",
    "\n",
    "plt.title('Average Number of Minor Injuries by Make')\n",
    "plt.xlabel('Make')\n",
    "plt.ylabel('Average Number of Minor Injuries')\n",
    "\n",
    "plt.xticks(rotation=45, ha='right')\n",
    "\n",
    "plt.show()"
   ]
  },
  {
   "cell_type": "markdown",
   "metadata": {},
   "source": [
    "Of the Makes reporting on average higher than one number of engines on average and disregarding Boeing, Cessna had the highest on average uninjured passengers per accident while the Grumman Make had the lowest on average uninjured."
   ]
  },
  {
   "cell_type": "code",
   "execution_count": 22,
   "metadata": {},
   "outputs": [
    {
     "data": {
      "image/png": "[encoded data removed]",
      "text/plain": [
       "<Figure size 864x432 with 1 Axes>"
      ]
     },
     "metadata": {
      "needs_background": "light"
     },
     "output_type": "display_data"
    }
   ],
   "source": [
    "# Plot average total uninjured per make\n",
    "plt.figure(figsize=(12, 6))\n",
    "\n",
    "sns.barplot(x='Make', y='Total.Uninjured', data=df)\n",
    "\n",
    "plt.title('Average Number of Uninjured by Make')\n",
    "plt.xlabel('Make')\n",
    "plt.ylabel('Average Number of Uninjured')\n",
    "\n",
    "plt.xticks(rotation=45, ha='right')\n",
    "\n",
    "plt.show()"
   ]
  },
  {
   "cell_type": "markdown",
   "metadata": {},
   "source": [
    "The Cessna Make is the lowest risk Make of the Makes average more than one engine. Although the Cessna has a higher average fatal injury count than the Grumman, it is a lower risk than the Grumman when measured against average serious injury, average minor injury and average uninjured.\n",
    "\n",
    "We will now filter for just a Cessna Make dataframe to analyze how many engines would be be the lowest risk and which model is the lowest risk."
   ]
  },
  {
   "cell_type": "code",
   "execution_count": 23,
   "metadata": {},
   "outputs": [
    {
     "data": {
      "text/plain": [
       "CESSNA    6947\n",
       "Name: Make, dtype: int64"
      ]
     },
     "execution_count": 23,
     "metadata": {},
     "output_type": "execute_result"
    }
   ],
   "source": [
    "# Create a dataframe for just CESSNA\n",
    "df_cessna = df[df['Make'] == 'CESSNA']\n",
    "df_cessna['Make'].value_counts()"
   ]
  },
  {
   "cell_type": "code",
   "execution_count": 24,
   "metadata": {},
   "outputs": [
    {
     "data": {
      "text/plain": [
       "172     717\n",
       "152     406\n",
       "172N    293\n",
       "182     268\n",
       "172S    252\n",
       "180     227\n",
       "150     210\n",
       "172M    198\n",
       "172P    155\n",
       "140     119\n",
       "Name: Model, dtype: int64"
      ]
     },
     "execution_count": 24,
     "metadata": {},
     "output_type": "execute_result"
    }
   ],
   "source": [
    "# Stakeholder is only interested in top 10 data counts\n",
    "top_10_values_2 = df_cessna['Model'].value_counts().head(10).index\n",
    "\n",
    "df_cessna = df[df['Model'].isin(top_10_values_2)]\n",
    "df_cessna['Model'].value_counts()"
   ]
  },
  {
   "cell_type": "markdown",
   "metadata": {},
   "source": [
    "### Plot of Average Number of Engines by Cessna Model"
   ]
  },
  {
   "cell_type": "markdown",
   "metadata": {},
   "source": [
    "Of the top ten data counts for Cessna Models, only two models average more than one engine. These two models can be shown below as the 140 and the 150. I would advise Embraer to purchase a Cessna Make of more than one engine as it correlates with lower risk."
   ]
  },
  {
   "cell_type": "code",
   "execution_count": 25,
   "metadata": {},
   "outputs": [
    {
     "data": {
      "image/png": "[encoded data removed]",
      "text/plain": [
       "<Figure size 864x432 with 1 Axes>"
      ]
     },
     "metadata": {
      "needs_background": "light"
     },
     "output_type": "display_data"
    }
   ],
   "source": [
    "# Plot number of engines by Cessna model\n",
    "plt.figure(figsize=(12, 6))\n",
    "\n",
    "sns.barplot(x='Model', y='Number.of.Engines', data=df_cessna)\n",
    "\n",
    "plt.title('Average Number of Engines by Cessna Model')\n",
    "plt.xlabel('Cessna Model')\n",
    "plt.ylabel('Average Number of Engines')\n",
    "\n",
    "plt.xticks(rotation=45, ha='right')\n",
    "\n",
    "plt.show()"
   ]
  },
  {
   "cell_type": "code",
   "execution_count": 26,
   "metadata": {},
   "outputs": [
    {
     "data": {
      "text/html": [
       "<div>\n",
       "<style scoped>\n",
       "    .dataframe tbody tr th:only-of-type {\n",
       "        vertical-align: middle;\n",
       "    }\n",
       "\n",
       "    .dataframe tbody tr th {\n",
       "        vertical-align: top;\n",
       "    }\n",
       "\n",
       "    .dataframe thead th {\n",
       "        text-align: right;\n",
       "    }\n",
       "</style>\n",
       "<table border=\"1\" class=\"dataframe\">\n",
       "  <thead>\n",
       "    <tr style=\"text-align: right;\">\n",
       "      <th></th>\n",
       "      <th>Investigation.Type</th>\n",
       "      <th>Country</th>\n",
       "      <th>Injury.Severity</th>\n",
       "      <th>Aircraft.Category</th>\n",
       "      <th>Make</th>\n",
       "      <th>Model</th>\n",
       "      <th>Amateur.Built</th>\n",
       "      <th>Number.of.Engines</th>\n",
       "      <th>Engine.Type</th>\n",
       "      <th>Total.Fatal.Injuries</th>\n",
       "      <th>Total.Serious.Injuries</th>\n",
       "      <th>Total.Minor.Injuries</th>\n",
       "      <th>Total.Uninjured</th>\n",
       "      <th>Broad.phase.of.flight</th>\n",
       "    </tr>\n",
       "  </thead>\n",
       "  <tbody>\n",
       "    <tr>\n",
       "      <th>878</th>\n",
       "      <td>Accident</td>\n",
       "      <td>United States</td>\n",
       "      <td>Non-Fatal</td>\n",
       "      <td>Airplane</td>\n",
       "      <td>CESSNA</td>\n",
       "      <td>150</td>\n",
       "      <td>No</td>\n",
       "      <td>2.0</td>\n",
       "      <td>Reciprocating</td>\n",
       "      <td>0.0</td>\n",
       "      <td>0.0</td>\n",
       "      <td>0.0</td>\n",
       "      <td>2.0</td>\n",
       "      <td>Takeoff</td>\n",
       "    </tr>\n",
       "    <tr>\n",
       "      <th>1475</th>\n",
       "      <td>Accident</td>\n",
       "      <td>United States</td>\n",
       "      <td>Non-Fatal</td>\n",
       "      <td>Airplane</td>\n",
       "      <td>CESSNA</td>\n",
       "      <td>140</td>\n",
       "      <td>No</td>\n",
       "      <td>2.0</td>\n",
       "      <td>Reciprocating</td>\n",
       "      <td>0.0</td>\n",
       "      <td>0.0</td>\n",
       "      <td>0.0</td>\n",
       "      <td>1.0</td>\n",
       "      <td>Landing</td>\n",
       "    </tr>\n",
       "  </tbody>\n",
       "</table>\n",
       "</div>"
      ],
      "text/plain": [
       "     Investigation.Type        Country Injury.Severity Aircraft.Category  \\\n",
       "878            Accident  United States       Non-Fatal          Airplane   \n",
       "1475           Accident  United States       Non-Fatal          Airplane   \n",
       "\n",
       "        Make Model Amateur.Built  Number.of.Engines    Engine.Type  \\\n",
       "878   CESSNA   150            No                2.0  Reciprocating   \n",
       "1475  CESSNA   140            No                2.0  Reciprocating   \n",
       "\n",
       "      Total.Fatal.Injuries  Total.Serious.Injuries  Total.Minor.Injuries  \\\n",
       "878                    0.0                     0.0                   0.0   \n",
       "1475                   0.0                     0.0                   0.0   \n",
       "\n",
       "      Total.Uninjured Broad.phase.of.flight  \n",
       "878               2.0               Takeoff  \n",
       "1475              1.0               Landing  "
      ]
     },
     "execution_count": 26,
     "metadata": {},
     "output_type": "execute_result"
    }
   ],
   "source": [
    "filtered_df = df_cessna[df_cessna['Number.of.Engines'] > 1.0]\n",
    "\n",
    "# Display the head of the filtered DataFrame\n",
    "filtered_df.head()"
   ]
  },
  {
   "cell_type": "code",
   "execution_count": 27,
   "metadata": {},
   "outputs": [
    {
     "name": "stdout",
     "output_type": "stream",
     "text": [
      "Average number of fatal injuries for models with more than 1 engine: 0.0\n",
      "Average number of fatal injuries for models with 1 or fewer engines: 0.17535211267605633\n"
     ]
    }
   ],
   "source": [
    "# Calculate the average number of fatal injuries for models with more than 1 engine\n",
    "average_fatal_injuries_above_1_engine = df_cessna[df_cessna['Number.of.Engines'] > 1]['Total.Fatal.Injuries'].mean()\n",
    "\n",
    "# Calculate the average number of fatal injuries for models with 1 or fewer engines\n",
    "average_fatal_injuries_below_or_equal_1_engine = df_cessna[df_cessna['Number.of.Engines'] <= 1]['Total.Fatal.Injuries'].mean()\n",
    "\n",
    "print(\"Average number of fatal injuries for models with more than 1 engine:\", average_fatal_injuries_above_1_engine)\n",
    "print(\"Average number of fatal injuries for models with 1 or fewer engines:\", average_fatal_injuries_below_or_equal_1_engine)"
   ]
  },
  {
   "cell_type": "markdown",
   "metadata": {},
   "source": [
    "Althought there are only two rows of data for Cessna models with more than one engine, both showcase no fatal, serious or minor injuries. Both the 140 and 150 showcase only uninjured passengers. The average number of fatal injuries for models with more than one engine is 0 whereas the average number of fatal injuries for models with 1 or fewer engines is 0.175."
   ]
  },
  {
   "cell_type": "markdown",
   "metadata": {},
   "source": [
    "### Plots of Average Injuries per Model"
   ]
  },
  {
   "cell_type": "markdown",
   "metadata": {},
   "source": [
    "In this plot of average total fatal injuries per Cessna Model, the 182, 172M and 172N record the highest on average fatal injuries. The 180, 152 and 140 Models report the lowest on average fatal injuries."
   ]
  },
  {
   "cell_type": "code",
   "execution_count": 28,
   "metadata": {},
   "outputs": [
    {
     "data": {
      "image/png": "[encoded data removed]",
      "text/plain": [
       "<Figure size 864x432 with 1 Axes>"
      ]
     },
     "metadata": {
      "needs_background": "light"
     },
     "output_type": "display_data"
    }
   ],
   "source": [
    "# Plot average total fatal injuries per Cessna model\n",
    "plt.figure(figsize=(12, 6))\n",
    "\n",
    "sns.barplot(x='Model', y='Total.Fatal.Injuries', data=df_cessna)\n",
    "\n",
    "plt.title('Average Number of Fatal Injuries by Cessna Model')\n",
    "plt.xlabel('Cessna Model')\n",
    "plt.ylabel('Average Number of Fatal Injuries')\n",
    "\n",
    "plt.xticks(rotation=45, ha='right')\n",
    "\n",
    "plt.show()"
   ]
  },
  {
   "cell_type": "markdown",
   "metadata": {},
   "source": [
    "In the plot below, the 182, 172M and 172 models showcase the highest on average serious injury counts whereas the 152, 172S and 150 models report the lowest on average serious injury counts."
   ]
  },
  {
   "cell_type": "code",
   "execution_count": 29,
   "metadata": {},
   "outputs": [
    {
     "data": {
      "image/png": "[encoded data removed]",
      "text/plain": [
       "<Figure size 864x432 with 1 Axes>"
      ]
     },
     "metadata": {
      "needs_background": "light"
     },
     "output_type": "display_data"
    }
   ],
   "source": [
    "# Plot average total serious injuries per Cessna model\n",
    "plt.figure(figsize=(12, 6))\n",
    "\n",
    "sns.barplot(x='Model', y='Total.Serious.Injuries', data=df_cessna)\n",
    "\n",
    "plt.title('Average Number of Serious Injuries by Cessna Model')\n",
    "plt.xlabel('Cessna Model')\n",
    "plt.ylabel('Average Number of Serious Injuries')\n",
    "\n",
    "plt.xticks(rotation=45, ha='right')\n",
    "\n",
    "plt.show()"
   ]
  },
  {
   "cell_type": "markdown",
   "metadata": {},
   "source": [
    "In the plot below, the 150, 172M and 172N models showcase the highest on average minor injury counts whereas the 172S, 140 and 180 models showcase the lowest on average minor injury counts."
   ]
  },
  {
   "cell_type": "code",
   "execution_count": 30,
   "metadata": {},
   "outputs": [
    {
     "data": {
      "image/png": "[encoded data removed]",
      "text/plain": [
       "<Figure size 864x432 with 1 Axes>"
      ]
     },
     "metadata": {
      "needs_background": "light"
     },
     "output_type": "display_data"
    }
   ],
   "source": [
    "plt.figure(figsize=(12, 6))\n",
    "\n",
    "sns.barplot(x='Model', y='Total.Minor.Injuries', data=df_cessna)\n",
    "\n",
    "plt.title('Average Number of Minor Injuries by Cessna Model')\n",
    "plt.xlabel('Cessna Model')\n",
    "plt.ylabel('Average Number of Minor Injuries')\n",
    "\n",
    "plt.xticks(rotation=45, ha='right')\n",
    "\n",
    "plt.show()"
   ]
  },
  {
   "cell_type": "markdown",
   "metadata": {},
   "source": [
    "In the plot below, the 180, 172, and 182 models have the highest average number of uninjured passengers whereas the 150, 152 and 172M have the lowest on average uninjured passengers."
   ]
  },
  {
   "cell_type": "code",
   "execution_count": 31,
   "metadata": {},
   "outputs": [
    {
     "data": {
      "image/png": "[encoded data removed]",
      "text/plain": [
       "<Figure size 864x432 with 1 Axes>"
      ]
     },
     "metadata": {
      "needs_background": "light"
     },
     "output_type": "display_data"
    }
   ],
   "source": [
    "plt.figure(figsize=(12, 6))\n",
    "\n",
    "sns.barplot(x='Model', y='Total.Uninjured', data=df_cessna)\n",
    "\n",
    "plt.title('Average Number of Uninjured by Cessna Model')\n",
    "plt.xlabel('Cessna Model')\n",
    "plt.ylabel('Average Number of Uninjured')\n",
    "\n",
    "plt.xticks(rotation=45, ha='right')\n",
    "\n",
    "plt.show()"
   ]
  },
  {
   "cell_type": "markdown",
   "metadata": {},
   "source": [
    "Of the two Cessna models that average more than one engine, the 140 averages lower fatal and minor injuries cmopared to the 150 and averages higher uninjured counts than the 150. The 150 showcases a lower average serious injury count than the 140.\n",
    "\n",
    "The 182, 172M and 172N models are consistently averaging higher injuries in fatal, serious and minor counts compared to other models. The 140, 180 and 152 are consistently averaging lower injuries in fatal, serious and minor injury counts compared to other models."
   ]
  },
  {
   "cell_type": "markdown",
   "metadata": {},
   "source": [
    "## Conclusions"
   ]
  },
  {
   "cell_type": "markdown",
   "metadata": {},
   "source": [
    "This analysis leads to three recommendations for selecting the lowet risk aircraft for Embraer to purhcase\n",
    "\n",
    "1) The Cessna make. The Cessna make is the lowest risk make averaging more than one engine in the top ten counts of Embraer's analysis criteria when analyzing average injury counts in fatal, serious and minor injuries.\n",
    "\n",
    "2) Select a Cessna model averaging more than one engine. In looking at the top ten data counts of Cessna models per Embraer's criteria, two models average more than one engine. The 140 and 150. These two models average zero injuries for average fatal, serious and minor injuries. Cessna models with one or fewer engines average 0.175 fatal injuries per Embraer's criteria.\n",
    "\n",
    "3) Purchase the Cessna 140 model. Now that we've established the higher number of engines is lower risk, the 140 averages a lower risk than the 150 in fatal, minor and uninjured counts. The 150 only averages a lower risk in serious injury counts than the 140 but not by much."
   ]
  },
  {
   "cell_type": "markdown",
   "metadata": {},
   "source": [
    "## Limitations"
   ]
  },
  {
   "cell_type": "markdown",
   "metadata": {},
   "source": [
    "After concluding my analysis, some limitations to this study should be noted.\n",
    "\n",
    "1) My stakeholder only requested data with the ten highest counts reported. If accidents of other private enterprise Makes were reported in this dataset that also met the other criteria of my stakeholder, we could have had a more in-depth analysis. This dataset was very abundant on the Cessna make compared to other makes we analyzed.\n",
    "\n",
    "2) This dataset was limited in numerical data to compare amongst each other. Performing a describe action at the start of our analysis showed that only five columns of data were numerical. I utilized all numerical data in my analysis, but more numerical columns could have led to a better analysis.\n",
    "\n",
    "3) There were a lot of NaN values in this dataset. To account for this, I removed all NaN rows under the Number.of.Engines column and turned all NaN values under the injury columns to 0.0. If these NaN values had reliable data values in place of them at the start, it could have led us to a better analysis."
   ]
  },
  {
   "cell_type": "markdown",
   "metadata": {},
   "source": [
    "## Next Steps"
   ]
  },
  {
   "cell_type": "markdown",
   "metadata": {},
   "source": [
    "Further analysis could yield additional insights to further improve our selection of the lowest risk aircraft:\n",
    "\n",
    "1) More even distribution of accident reports among the makes present in the data. Some makes accident report sample size far outweighed other makes. This would lead to more reliable data to base our decision off of for one make compared to other makes.\n",
    "\n",
    "2) Analyzing more numerical data. By analyzing more numerical data, we could create more visualizations and avenues to look into for our analysis. We only have five numerical data columns in this dataset.\n",
    "\n",
    "3) Working around the missing NaN values. By having a full dataset we could perform a stronger analysis, rather than relying on my intuition on how to account for NaN values in each column."
   ]
  }
 ],
 "metadata": {
  "kernelspec": {
   "display_name": "Python (learn-env)",
   "language": "python",
   "name": "learn-env"
  },
  "language_info": {
   "codemirror_mode": {
    "name": "ipython",
    "version": 3
   },
   "file_extension": ".py",
   "mimetype": "text/x-python",
   "name": "python",
   "nbconvert_exporter": "python",
   "pygments_lexer": "ipython3",
   "version": "3.8.5"
  }
 },
 "nbformat": 4,
 "nbformat_minor": 4
}
