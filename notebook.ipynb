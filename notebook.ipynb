{
 "cells": [
  {
   "cell_type": "markdown",
   "metadata": {},
   "source": [
    "# Business Understanding"
   ]
  },
  {
   "cell_type": "markdown",
   "metadata": {},
   "source": []
  },
  {
   "cell_type": "markdown",
   "metadata": {},
   "source": [
    "# Data Understanding"
   ]
  },
  {
   "cell_type": "markdown",
   "metadata": {},
   "source": []
  },
  {
   "cell_type": "code",
   "execution_count": 110,
   "metadata": {},
   "outputs": [],
   "source": [
    "import pandas as pd\n",
    "import numpy as np\n",
    "import seaborn as sns\n",
    "from matplotlib import pyplot as plt\n",
    "%matplotlib inline"
   ]
  },
  {
   "cell_type": "code",
   "execution_count": 111,
   "metadata": {},
   "outputs": [],
   "source": [
    "df = pd.read_csv('data/Aviation_Data.csv', low_memory=False)\n",
    "#keep in mind what the dataframe means. these are accidents.\n",
    "#go through what columns to keep and rows by null values. might be ~50,000 values."
   ]
  },
  {
   "cell_type": "code",
   "execution_count": 112,
   "metadata": {},
   "outputs": [
    {
     "name": "stdout",
     "output_type": "stream",
     "text": [
      "<class 'pandas.core.frame.DataFrame'>\n",
      "RangeIndex: 90348 entries, 0 to 90347\n",
      "Data columns (total 31 columns):\n",
      " #   Column                  Non-Null Count  Dtype  \n",
      "---  ------                  --------------  -----  \n",
      " 0   Event.Id                88889 non-null  object \n",
      " 1   Investigation.Type      90348 non-null  object \n",
      " 2   Accident.Number         88889 non-null  object \n",
      " 3   Event.Date              88889 non-null  object \n",
      " 4   Location                88837 non-null  object \n",
      " 5   Country                 88663 non-null  object \n",
      " 6   Latitude                34382 non-null  object \n",
      " 7   Longitude               34373 non-null  object \n",
      " 8   Airport.Code            50249 non-null  object \n",
      " 9   Airport.Name            52790 non-null  object \n",
      " 10  Injury.Severity         87889 non-null  object \n",
      " 11  Aircraft.damage         85695 non-null  object \n",
      " 12  Aircraft.Category       32287 non-null  object \n",
      " 13  Registration.Number     87572 non-null  object \n",
      " 14  Make                    88826 non-null  object \n",
      " 15  Model                   88797 non-null  object \n",
      " 16  Amateur.Built           88787 non-null  object \n",
      " 17  Number.of.Engines       82805 non-null  float64\n",
      " 18  Engine.Type             81812 non-null  object \n",
      " 19  FAR.Description         32023 non-null  object \n",
      " 20  Schedule                12582 non-null  object \n",
      " 21  Purpose.of.flight       82697 non-null  object \n",
      " 22  Air.carrier             16648 non-null  object \n",
      " 23  Total.Fatal.Injuries    77488 non-null  float64\n",
      " 24  Total.Serious.Injuries  76379 non-null  float64\n",
      " 25  Total.Minor.Injuries    76956 non-null  float64\n",
      " 26  Total.Uninjured         82977 non-null  float64\n",
      " 27  Weather.Condition       84397 non-null  object \n",
      " 28  Broad.phase.of.flight   61724 non-null  object \n",
      " 29  Report.Status           82508 non-null  object \n",
      " 30  Publication.Date        73659 non-null  object \n",
      "dtypes: float64(5), object(26)\n",
      "memory usage: 21.4+ MB\n"
     ]
    }
   ],
   "source": [
    "df.info()"
   ]
  },
  {
   "cell_type": "code",
   "execution_count": 113,
   "metadata": {},
   "outputs": [
    {
     "data": {
      "text/html": [
       "<div>\n",
       "<style scoped>\n",
       "    .dataframe tbody tr th:only-of-type {\n",
       "        vertical-align: middle;\n",
       "    }\n",
       "\n",
       "    .dataframe tbody tr th {\n",
       "        vertical-align: top;\n",
       "    }\n",
       "\n",
       "    .dataframe thead th {\n",
       "        text-align: right;\n",
       "    }\n",
       "</style>\n",
       "<table border=\"1\" class=\"dataframe\">\n",
       "  <thead>\n",
       "    <tr style=\"text-align: right;\">\n",
       "      <th></th>\n",
       "      <th>Event.Id</th>\n",
       "      <th>Investigation.Type</th>\n",
       "      <th>Accident.Number</th>\n",
       "      <th>Event.Date</th>\n",
       "      <th>Location</th>\n",
       "      <th>Country</th>\n",
       "      <th>Latitude</th>\n",
       "      <th>Longitude</th>\n",
       "      <th>Airport.Code</th>\n",
       "      <th>Airport.Name</th>\n",
       "      <th>...</th>\n",
       "      <th>Purpose.of.flight</th>\n",
       "      <th>Air.carrier</th>\n",
       "      <th>Total.Fatal.Injuries</th>\n",
       "      <th>Total.Serious.Injuries</th>\n",
       "      <th>Total.Minor.Injuries</th>\n",
       "      <th>Total.Uninjured</th>\n",
       "      <th>Weather.Condition</th>\n",
       "      <th>Broad.phase.of.flight</th>\n",
       "      <th>Report.Status</th>\n",
       "      <th>Publication.Date</th>\n",
       "    </tr>\n",
       "  </thead>\n",
       "  <tbody>\n",
       "    <tr>\n",
       "      <th>0</th>\n",
       "      <td>20001218X45444</td>\n",
       "      <td>Accident</td>\n",
       "      <td>SEA87LA080</td>\n",
       "      <td>1948-10-24</td>\n",
       "      <td>MOOSE CREEK, ID</td>\n",
       "      <td>United States</td>\n",
       "      <td>NaN</td>\n",
       "      <td>NaN</td>\n",
       "      <td>NaN</td>\n",
       "      <td>NaN</td>\n",
       "      <td>...</td>\n",
       "      <td>Personal</td>\n",
       "      <td>NaN</td>\n",
       "      <td>2.0</td>\n",
       "      <td>0.0</td>\n",
       "      <td>0.0</td>\n",
       "      <td>0.0</td>\n",
       "      <td>UNK</td>\n",
       "      <td>Cruise</td>\n",
       "      <td>Probable Cause</td>\n",
       "      <td>NaN</td>\n",
       "    </tr>\n",
       "    <tr>\n",
       "      <th>1</th>\n",
       "      <td>20001218X45447</td>\n",
       "      <td>Accident</td>\n",
       "      <td>LAX94LA336</td>\n",
       "      <td>1962-07-19</td>\n",
       "      <td>BRIDGEPORT, CA</td>\n",
       "      <td>United States</td>\n",
       "      <td>NaN</td>\n",
       "      <td>NaN</td>\n",
       "      <td>NaN</td>\n",
       "      <td>NaN</td>\n",
       "      <td>...</td>\n",
       "      <td>Personal</td>\n",
       "      <td>NaN</td>\n",
       "      <td>4.0</td>\n",
       "      <td>0.0</td>\n",
       "      <td>0.0</td>\n",
       "      <td>0.0</td>\n",
       "      <td>UNK</td>\n",
       "      <td>Unknown</td>\n",
       "      <td>Probable Cause</td>\n",
       "      <td>19-09-1996</td>\n",
       "    </tr>\n",
       "    <tr>\n",
       "      <th>2</th>\n",
       "      <td>20061025X01555</td>\n",
       "      <td>Accident</td>\n",
       "      <td>NYC07LA005</td>\n",
       "      <td>1974-08-30</td>\n",
       "      <td>Saltville, VA</td>\n",
       "      <td>United States</td>\n",
       "      <td>36.922223</td>\n",
       "      <td>-81.878056</td>\n",
       "      <td>NaN</td>\n",
       "      <td>NaN</td>\n",
       "      <td>...</td>\n",
       "      <td>Personal</td>\n",
       "      <td>NaN</td>\n",
       "      <td>3.0</td>\n",
       "      <td>NaN</td>\n",
       "      <td>NaN</td>\n",
       "      <td>NaN</td>\n",
       "      <td>IMC</td>\n",
       "      <td>Cruise</td>\n",
       "      <td>Probable Cause</td>\n",
       "      <td>26-02-2007</td>\n",
       "    </tr>\n",
       "    <tr>\n",
       "      <th>3</th>\n",
       "      <td>20001218X45448</td>\n",
       "      <td>Accident</td>\n",
       "      <td>LAX96LA321</td>\n",
       "      <td>1977-06-19</td>\n",
       "      <td>EUREKA, CA</td>\n",
       "      <td>United States</td>\n",
       "      <td>NaN</td>\n",
       "      <td>NaN</td>\n",
       "      <td>NaN</td>\n",
       "      <td>NaN</td>\n",
       "      <td>...</td>\n",
       "      <td>Personal</td>\n",
       "      <td>NaN</td>\n",
       "      <td>2.0</td>\n",
       "      <td>0.0</td>\n",
       "      <td>0.0</td>\n",
       "      <td>0.0</td>\n",
       "      <td>IMC</td>\n",
       "      <td>Cruise</td>\n",
       "      <td>Probable Cause</td>\n",
       "      <td>12-09-2000</td>\n",
       "    </tr>\n",
       "    <tr>\n",
       "      <th>4</th>\n",
       "      <td>20041105X01764</td>\n",
       "      <td>Accident</td>\n",
       "      <td>CHI79FA064</td>\n",
       "      <td>1979-08-02</td>\n",
       "      <td>Canton, OH</td>\n",
       "      <td>United States</td>\n",
       "      <td>NaN</td>\n",
       "      <td>NaN</td>\n",
       "      <td>NaN</td>\n",
       "      <td>NaN</td>\n",
       "      <td>...</td>\n",
       "      <td>Personal</td>\n",
       "      <td>NaN</td>\n",
       "      <td>1.0</td>\n",
       "      <td>2.0</td>\n",
       "      <td>NaN</td>\n",
       "      <td>0.0</td>\n",
       "      <td>VMC</td>\n",
       "      <td>Approach</td>\n",
       "      <td>Probable Cause</td>\n",
       "      <td>16-04-1980</td>\n",
       "    </tr>\n",
       "  </tbody>\n",
       "</table>\n",
       "<p>5 rows × 31 columns</p>\n",
       "</div>"
      ],
      "text/plain": [
       "         Event.Id Investigation.Type Accident.Number  Event.Date  \\\n",
       "0  20001218X45444           Accident      SEA87LA080  1948-10-24   \n",
       "1  20001218X45447           Accident      LAX94LA336  1962-07-19   \n",
       "2  20061025X01555           Accident      NYC07LA005  1974-08-30   \n",
       "3  20001218X45448           Accident      LAX96LA321  1977-06-19   \n",
       "4  20041105X01764           Accident      CHI79FA064  1979-08-02   \n",
       "\n",
       "          Location        Country   Latitude   Longitude Airport.Code  \\\n",
       "0  MOOSE CREEK, ID  United States        NaN         NaN          NaN   \n",
       "1   BRIDGEPORT, CA  United States        NaN         NaN          NaN   \n",
       "2    Saltville, VA  United States  36.922223  -81.878056          NaN   \n",
       "3       EUREKA, CA  United States        NaN         NaN          NaN   \n",
       "4       Canton, OH  United States        NaN         NaN          NaN   \n",
       "\n",
       "  Airport.Name  ... Purpose.of.flight Air.carrier Total.Fatal.Injuries  \\\n",
       "0          NaN  ...          Personal         NaN                  2.0   \n",
       "1          NaN  ...          Personal         NaN                  4.0   \n",
       "2          NaN  ...          Personal         NaN                  3.0   \n",
       "3          NaN  ...          Personal         NaN                  2.0   \n",
       "4          NaN  ...          Personal         NaN                  1.0   \n",
       "\n",
       "  Total.Serious.Injuries Total.Minor.Injuries Total.Uninjured  \\\n",
       "0                    0.0                  0.0             0.0   \n",
       "1                    0.0                  0.0             0.0   \n",
       "2                    NaN                  NaN             NaN   \n",
       "3                    0.0                  0.0             0.0   \n",
       "4                    2.0                  NaN             0.0   \n",
       "\n",
       "  Weather.Condition  Broad.phase.of.flight   Report.Status Publication.Date  \n",
       "0               UNK                 Cruise  Probable Cause              NaN  \n",
       "1               UNK                Unknown  Probable Cause       19-09-1996  \n",
       "2               IMC                 Cruise  Probable Cause       26-02-2007  \n",
       "3               IMC                 Cruise  Probable Cause       12-09-2000  \n",
       "4               VMC               Approach  Probable Cause       16-04-1980  \n",
       "\n",
       "[5 rows x 31 columns]"
      ]
     },
     "execution_count": 113,
     "metadata": {},
     "output_type": "execute_result"
    }
   ],
   "source": [
    "df.head()"
   ]
  },
  {
   "cell_type": "markdown",
   "metadata": {},
   "source": [
    "## Data Preparation"
   ]
  },
  {
   "cell_type": "markdown",
   "metadata": {},
   "source": [
    "I will only be accounting for airline make and models that are in the United States, so I will be removing any rows that are not the United States. Because I am measuring off of total fatal injuries, total serious injuries, total minor injuries, total uninjured, and injury severity, I will remove unnecessary columns. In addition to this, I'll keep some conditions to track safety. These safety conditions to keep in mind are number of engines, engine type, amateur built, weather condition, and flight level.\n",
    "\n",
    "The reason I am only viewing the United States crashes is because there is low cardinality and low uniform data. Taking into account only US accidents will still give me a chance to analyze majority of the data in our dataframe."
   ]
  },
  {
   "cell_type": "code",
   "execution_count": 114,
   "metadata": {},
   "outputs": [
    {
     "data": {
      "text/plain": [
       "Index(['Event.Id', 'Investigation.Type', 'Accident.Number', 'Event.Date',\n",
       "       'Location', 'Country', 'Latitude', 'Longitude', 'Airport.Code',\n",
       "       'Airport.Name', 'Injury.Severity', 'Aircraft.damage',\n",
       "       'Aircraft.Category', 'Registration.Number', 'Make', 'Model',\n",
       "       'Amateur.Built', 'Number.of.Engines', 'Engine.Type', 'FAR.Description',\n",
       "       'Schedule', 'Purpose.of.flight', 'Air.carrier', 'Total.Fatal.Injuries',\n",
       "       'Total.Serious.Injuries', 'Total.Minor.Injuries', 'Total.Uninjured',\n",
       "       'Weather.Condition', 'Broad.phase.of.flight', 'Report.Status',\n",
       "       'Publication.Date'],\n",
       "      dtype='object')"
      ]
     },
     "execution_count": 114,
     "metadata": {},
     "output_type": "execute_result"
    }
   ],
   "source": [
    "#First I want to examine all columns in the data\n",
    "df.columns"
   ]
  },
  {
   "cell_type": "code",
   "execution_count": 115,
   "metadata": {
    "scrolled": true
   },
   "outputs": [
    {
     "name": "stdout",
     "output_type": "stream",
     "text": [
      "<class 'pandas.core.frame.DataFrame'>\n",
      "Int64Index: 82248 entries, 0 to 90347\n",
      "Data columns (total 31 columns):\n",
      " #   Column                  Non-Null Count  Dtype  \n",
      "---  ------                  --------------  -----  \n",
      " 0   Event.Id                82248 non-null  object \n",
      " 1   Investigation.Type      82248 non-null  object \n",
      " 2   Accident.Number         82248 non-null  object \n",
      " 3   Event.Date              82248 non-null  object \n",
      " 4   Location                82237 non-null  object \n",
      " 5   Country                 82248 non-null  object \n",
      " 6   Latitude                32265 non-null  object \n",
      " 7   Longitude               32255 non-null  object \n",
      " 8   Airport.Code            49189 non-null  object \n",
      " 9   Airport.Name            51654 non-null  object \n",
      " 10  Injury.Severity         82140 non-null  object \n",
      " 11  Aircraft.damage         80269 non-null  object \n",
      " 12  Aircraft.Category       28154 non-null  object \n",
      " 13  Registration.Number     82197 non-null  object \n",
      " 14  Make                    82227 non-null  object \n",
      " 15  Model                   82210 non-null  object \n",
      " 16  Amateur.Built           82227 non-null  object \n",
      " 17  Number.of.Engines       80373 non-null  float64\n",
      " 18  Engine.Type             79225 non-null  object \n",
      " 19  FAR.Description         28225 non-null  object \n",
      " 20  Schedule                10297 non-null  object \n",
      " 21  Purpose.of.flight       79819 non-null  object \n",
      " 22  Air.carrier             14495 non-null  object \n",
      " 23  Total.Fatal.Injuries    71594 non-null  float64\n",
      " 24  Total.Serious.Injuries  70873 non-null  float64\n",
      " 25  Total.Minor.Injuries    71519 non-null  float64\n",
      " 26  Total.Uninjured         77243 non-null  float64\n",
      " 27  Weather.Condition       81603 non-null  object \n",
      " 28  Broad.phase.of.flight   61158 non-null  object \n",
      " 29  Report.Status           79637 non-null  object \n",
      " 30  Publication.Date        68110 non-null  object \n",
      "dtypes: float64(5), object(26)\n",
      "memory usage: 20.1+ MB\n"
     ]
    }
   ],
   "source": [
    "#Creating a dataframe that only shows accidents in the United States\n",
    "df_us = df[df['Country'] == 'United States']\n",
    "df_us.info()"
   ]
  },
  {
   "cell_type": "code",
   "execution_count": 116,
   "metadata": {},
   "outputs": [
    {
     "data": {
      "text/html": [
       "<div>\n",
       "<style scoped>\n",
       "    .dataframe tbody tr th:only-of-type {\n",
       "        vertical-align: middle;\n",
       "    }\n",
       "\n",
       "    .dataframe tbody tr th {\n",
       "        vertical-align: top;\n",
       "    }\n",
       "\n",
       "    .dataframe thead th {\n",
       "        text-align: right;\n",
       "    }\n",
       "</style>\n",
       "<table border=\"1\" class=\"dataframe\">\n",
       "  <thead>\n",
       "    <tr style=\"text-align: right;\">\n",
       "      <th></th>\n",
       "      <th>Event.Id</th>\n",
       "      <th>Injury.Severity</th>\n",
       "      <th>Aircraft.Category</th>\n",
       "      <th>Make</th>\n",
       "      <th>Model</th>\n",
       "      <th>Amateur.Built</th>\n",
       "      <th>Number.of.Engines</th>\n",
       "      <th>Engine.Type</th>\n",
       "      <th>Schedule</th>\n",
       "      <th>Purpose.of.flight</th>\n",
       "      <th>Air.carrier</th>\n",
       "      <th>Total.Fatal.Injuries</th>\n",
       "      <th>Total.Serious.Injuries</th>\n",
       "      <th>Total.Minor.Injuries</th>\n",
       "      <th>Total.Uninjured</th>\n",
       "      <th>Weather.Condition</th>\n",
       "      <th>Broad.phase.of.flight</th>\n",
       "    </tr>\n",
       "  </thead>\n",
       "  <tbody>\n",
       "    <tr>\n",
       "      <th>0</th>\n",
       "      <td>20001218X45444</td>\n",
       "      <td>Fatal(2)</td>\n",
       "      <td>NaN</td>\n",
       "      <td>Stinson</td>\n",
       "      <td>108-3</td>\n",
       "      <td>No</td>\n",
       "      <td>1.0</td>\n",
       "      <td>Reciprocating</td>\n",
       "      <td>NaN</td>\n",
       "      <td>Personal</td>\n",
       "      <td>NaN</td>\n",
       "      <td>2.0</td>\n",
       "      <td>0.0</td>\n",
       "      <td>0.0</td>\n",
       "      <td>0.0</td>\n",
       "      <td>UNK</td>\n",
       "      <td>Cruise</td>\n",
       "    </tr>\n",
       "    <tr>\n",
       "      <th>1</th>\n",
       "      <td>20001218X45447</td>\n",
       "      <td>Fatal(4)</td>\n",
       "      <td>NaN</td>\n",
       "      <td>Piper</td>\n",
       "      <td>PA24-180</td>\n",
       "      <td>No</td>\n",
       "      <td>1.0</td>\n",
       "      <td>Reciprocating</td>\n",
       "      <td>NaN</td>\n",
       "      <td>Personal</td>\n",
       "      <td>NaN</td>\n",
       "      <td>4.0</td>\n",
       "      <td>0.0</td>\n",
       "      <td>0.0</td>\n",
       "      <td>0.0</td>\n",
       "      <td>UNK</td>\n",
       "      <td>Unknown</td>\n",
       "    </tr>\n",
       "    <tr>\n",
       "      <th>2</th>\n",
       "      <td>20061025X01555</td>\n",
       "      <td>Fatal(3)</td>\n",
       "      <td>NaN</td>\n",
       "      <td>Cessna</td>\n",
       "      <td>172M</td>\n",
       "      <td>No</td>\n",
       "      <td>1.0</td>\n",
       "      <td>Reciprocating</td>\n",
       "      <td>NaN</td>\n",
       "      <td>Personal</td>\n",
       "      <td>NaN</td>\n",
       "      <td>3.0</td>\n",
       "      <td>NaN</td>\n",
       "      <td>NaN</td>\n",
       "      <td>NaN</td>\n",
       "      <td>IMC</td>\n",
       "      <td>Cruise</td>\n",
       "    </tr>\n",
       "    <tr>\n",
       "      <th>3</th>\n",
       "      <td>20001218X45448</td>\n",
       "      <td>Fatal(2)</td>\n",
       "      <td>NaN</td>\n",
       "      <td>Rockwell</td>\n",
       "      <td>112</td>\n",
       "      <td>No</td>\n",
       "      <td>1.0</td>\n",
       "      <td>Reciprocating</td>\n",
       "      <td>NaN</td>\n",
       "      <td>Personal</td>\n",
       "      <td>NaN</td>\n",
       "      <td>2.0</td>\n",
       "      <td>0.0</td>\n",
       "      <td>0.0</td>\n",
       "      <td>0.0</td>\n",
       "      <td>IMC</td>\n",
       "      <td>Cruise</td>\n",
       "    </tr>\n",
       "    <tr>\n",
       "      <th>4</th>\n",
       "      <td>20041105X01764</td>\n",
       "      <td>Fatal(1)</td>\n",
       "      <td>NaN</td>\n",
       "      <td>Cessna</td>\n",
       "      <td>501</td>\n",
       "      <td>No</td>\n",
       "      <td>NaN</td>\n",
       "      <td>NaN</td>\n",
       "      <td>NaN</td>\n",
       "      <td>Personal</td>\n",
       "      <td>NaN</td>\n",
       "      <td>1.0</td>\n",
       "      <td>2.0</td>\n",
       "      <td>NaN</td>\n",
       "      <td>0.0</td>\n",
       "      <td>VMC</td>\n",
       "      <td>Approach</td>\n",
       "    </tr>\n",
       "  </tbody>\n",
       "</table>\n",
       "</div>"
      ],
      "text/plain": [
       "         Event.Id Injury.Severity Aircraft.Category      Make     Model  \\\n",
       "0  20001218X45444        Fatal(2)               NaN   Stinson     108-3   \n",
       "1  20001218X45447        Fatal(4)               NaN     Piper  PA24-180   \n",
       "2  20061025X01555        Fatal(3)               NaN    Cessna      172M   \n",
       "3  20001218X45448        Fatal(2)               NaN  Rockwell       112   \n",
       "4  20041105X01764        Fatal(1)               NaN    Cessna       501   \n",
       "\n",
       "  Amateur.Built  Number.of.Engines    Engine.Type Schedule Purpose.of.flight  \\\n",
       "0            No                1.0  Reciprocating      NaN          Personal   \n",
       "1            No                1.0  Reciprocating      NaN          Personal   \n",
       "2            No                1.0  Reciprocating      NaN          Personal   \n",
       "3            No                1.0  Reciprocating      NaN          Personal   \n",
       "4            No                NaN            NaN      NaN          Personal   \n",
       "\n",
       "  Air.carrier  Total.Fatal.Injuries  Total.Serious.Injuries  \\\n",
       "0         NaN                   2.0                     0.0   \n",
       "1         NaN                   4.0                     0.0   \n",
       "2         NaN                   3.0                     NaN   \n",
       "3         NaN                   2.0                     0.0   \n",
       "4         NaN                   1.0                     2.0   \n",
       "\n",
       "   Total.Minor.Injuries  Total.Uninjured Weather.Condition  \\\n",
       "0                   0.0              0.0               UNK   \n",
       "1                   0.0              0.0               UNK   \n",
       "2                   NaN              NaN               IMC   \n",
       "3                   0.0              0.0               IMC   \n",
       "4                   NaN              0.0               VMC   \n",
       "\n",
       "  Broad.phase.of.flight  \n",
       "0                Cruise  \n",
       "1               Unknown  \n",
       "2                Cruise  \n",
       "3                Cruise  \n",
       "4              Approach  "
      ]
     },
     "execution_count": 116,
     "metadata": {},
     "output_type": "execute_result"
    }
   ],
   "source": [
    "#I will now remove unwanted columns\n",
    "#I am removing Country because these are all already United States accidents\n",
    "cols_to_remove = ['Investigation.Type','Accident.Number','Event.Date','Location','Country',\n",
    "                  'Aircraft.damage','Latitude', 'Longitude', 'Airport.Code', 'Airport.Name', \n",
    "                  'Registration.Number', 'FAR.Description', 'Report.Status', 'Publication.Date']\n",
    "df_us = df_us.drop(columns = cols_to_remove)\n",
    "df_us.head()"
   ]
  },
  {
   "cell_type": "code",
   "execution_count": 117,
   "metadata": {},
   "outputs": [
    {
     "data": {
      "text/plain": [
       "Airplane             24229\n",
       "Helicopter            2723\n",
       "Glider                 503\n",
       "Balloon                229\n",
       "Gyrocraft              172\n",
       "Weight-Shift           161\n",
       "Powered Parachute       90\n",
       "Ultralight              25\n",
       "WSFT                     9\n",
       "Unknown                  4\n",
       "Blimp                    4\n",
       "Powered-Lift             3\n",
       "ULTR                     1\n",
       "Rocket                   1\n",
       "Name: Aircraft.Category, dtype: int64"
      ]
     },
     "execution_count": 117,
     "metadata": {},
     "output_type": "execute_result"
    }
   ],
   "source": [
    "#Because our business problem is which aircraft is lowest risk, I am curious about looking at the value counts\n",
    "df_us['Aircraft.Category'].value_counts()"
   ]
  },
  {
   "cell_type": "code",
   "execution_count": 118,
   "metadata": {},
   "outputs": [
    {
     "data": {
      "text/plain": [
       "54094"
      ]
     },
     "execution_count": 118,
     "metadata": {},
     "output_type": "execute_result"
    }
   ],
   "source": [
    "#Here I want to figure out how to handle my NaN values for Aircraft.Category\n",
    "df_us['Aircraft.Category'].isna().sum()"
   ]
  },
  {
   "cell_type": "code",
   "execution_count": 119,
   "metadata": {},
   "outputs": [
    {
     "name": "stdout",
     "output_type": "stream",
     "text": [
      "<class 'pandas.core.frame.DataFrame'>\n",
      "Int64Index: 82248 entries, 0 to 90347\n",
      "Data columns (total 17 columns):\n",
      " #   Column                  Non-Null Count  Dtype  \n",
      "---  ------                  --------------  -----  \n",
      " 0   Event.Id                82248 non-null  object \n",
      " 1   Injury.Severity         82140 non-null  object \n",
      " 2   Aircraft.Category       82248 non-null  object \n",
      " 3   Make                    82227 non-null  object \n",
      " 4   Model                   82210 non-null  object \n",
      " 5   Amateur.Built           82227 non-null  object \n",
      " 6   Number.of.Engines       80373 non-null  float64\n",
      " 7   Engine.Type             79225 non-null  object \n",
      " 8   Schedule                10297 non-null  object \n",
      " 9   Purpose.of.flight       79819 non-null  object \n",
      " 10  Air.carrier             14495 non-null  object \n",
      " 11  Total.Fatal.Injuries    71594 non-null  float64\n",
      " 12  Total.Serious.Injuries  70873 non-null  float64\n",
      " 13  Total.Minor.Injuries    71519 non-null  float64\n",
      " 14  Total.Uninjured         77243 non-null  float64\n",
      " 15  Weather.Condition       81603 non-null  object \n",
      " 16  Broad.phase.of.flight   61158 non-null  object \n",
      "dtypes: float64(5), object(12)\n",
      "memory usage: 11.3+ MB\n"
     ]
    }
   ],
   "source": [
    "#There a lot of missing aircraft categories that are NaNs. \n",
    "#Because these NaN values are associated to Airplane Makes, I'll convert these values to 'Airplane'\n",
    "df_us['Aircraft.Category'] = df_us['Aircraft.Category'].fillna('Airplane')\n",
    "df_us.info()"
   ]
  },
  {
   "cell_type": "code",
   "execution_count": 120,
   "metadata": {},
   "outputs": [],
   "source": [
    "#The next thing I would want to analyze is how to manage the NaN values for the columns I'm evaluating.\n",
    "#For this exercise, I will assume the NaN values can just be 0.0, in this context/data NaN would mean no injury.\n",
    "#If there is a NaN value in any of my injury columns, it means there are no injuries.\n",
    "#Although there are other columns with NaN values, I will only worry for now about my injury columns.\n",
    "\n",
    "df_us['Total.Fatal.Injuries'] = df_us['Total.Fatal.Injuries'].fillna(0.0)\n",
    "df_us['Total.Serious.Injuries'] = df_us['Total.Serious.Injuries'].fillna(0.0)\n",
    "df_us['Total.Minor.Injuries'] = df_us['Total.Minor.Injuries'].fillna(0.0)\n",
    "df_us['Total.Uninjured'] = df_us['Total.Uninjured'].fillna(0.0)"
   ]
  },
  {
   "cell_type": "code",
   "execution_count": 121,
   "metadata": {},
   "outputs": [
    {
     "name": "stdout",
     "output_type": "stream",
     "text": [
      "<class 'pandas.core.frame.DataFrame'>\n",
      "Int64Index: 82248 entries, 0 to 90347\n",
      "Data columns (total 17 columns):\n",
      " #   Column                  Non-Null Count  Dtype  \n",
      "---  ------                  --------------  -----  \n",
      " 0   Event.Id                82248 non-null  object \n",
      " 1   Injury.Severity         82140 non-null  object \n",
      " 2   Aircraft.Category       82248 non-null  object \n",
      " 3   Make                    82227 non-null  object \n",
      " 4   Model                   82210 non-null  object \n",
      " 5   Amateur.Built           82227 non-null  object \n",
      " 6   Number.of.Engines       80373 non-null  float64\n",
      " 7   Engine.Type             79225 non-null  object \n",
      " 8   Schedule                10297 non-null  object \n",
      " 9   Purpose.of.flight       79819 non-null  object \n",
      " 10  Air.carrier             14495 non-null  object \n",
      " 11  Total.Fatal.Injuries    82248 non-null  float64\n",
      " 12  Total.Serious.Injuries  82248 non-null  float64\n",
      " 13  Total.Minor.Injuries    82248 non-null  float64\n",
      " 14  Total.Uninjured         82248 non-null  float64\n",
      " 15  Weather.Condition       81603 non-null  object \n",
      " 16  Broad.phase.of.flight   61158 non-null  object \n",
      "dtypes: float64(5), object(12)\n",
      "memory usage: 11.3+ MB\n"
     ]
    }
   ],
   "source": [
    "#Verify it worked and filled NaN with 0.0\n",
    "df_us.info()"
   ]
  },
  {
   "cell_type": "code",
   "execution_count": 122,
   "metadata": {},
   "outputs": [
    {
     "data": {
      "text/html": [
       "<div>\n",
       "<style scoped>\n",
       "    .dataframe tbody tr th:only-of-type {\n",
       "        vertical-align: middle;\n",
       "    }\n",
       "\n",
       "    .dataframe tbody tr th {\n",
       "        vertical-align: top;\n",
       "    }\n",
       "\n",
       "    .dataframe thead th {\n",
       "        text-align: right;\n",
       "    }\n",
       "</style>\n",
       "<table border=\"1\" class=\"dataframe\">\n",
       "  <thead>\n",
       "    <tr style=\"text-align: right;\">\n",
       "      <th></th>\n",
       "      <th>Event.Id</th>\n",
       "      <th>Injury.Severity</th>\n",
       "      <th>Aircraft.Category</th>\n",
       "      <th>Make</th>\n",
       "      <th>Model</th>\n",
       "      <th>Amateur.Built</th>\n",
       "      <th>Number.of.Engines</th>\n",
       "      <th>Engine.Type</th>\n",
       "      <th>Schedule</th>\n",
       "      <th>Purpose.of.flight</th>\n",
       "      <th>Air.carrier</th>\n",
       "      <th>Total.Fatal.Injuries</th>\n",
       "      <th>Total.Serious.Injuries</th>\n",
       "      <th>Total.Minor.Injuries</th>\n",
       "      <th>Total.Uninjured</th>\n",
       "      <th>Weather.Condition</th>\n",
       "      <th>Broad.phase.of.flight</th>\n",
       "    </tr>\n",
       "  </thead>\n",
       "  <tbody>\n",
       "    <tr>\n",
       "      <th>0</th>\n",
       "      <td>20001218X45444</td>\n",
       "      <td>Fatal(2)</td>\n",
       "      <td>Airplane</td>\n",
       "      <td>Stinson</td>\n",
       "      <td>108-3</td>\n",
       "      <td>No</td>\n",
       "      <td>1.0</td>\n",
       "      <td>Reciprocating</td>\n",
       "      <td>NaN</td>\n",
       "      <td>Personal</td>\n",
       "      <td>NaN</td>\n",
       "      <td>2.0</td>\n",
       "      <td>0.0</td>\n",
       "      <td>0.0</td>\n",
       "      <td>0.0</td>\n",
       "      <td>UNK</td>\n",
       "      <td>Cruise</td>\n",
       "    </tr>\n",
       "    <tr>\n",
       "      <th>1</th>\n",
       "      <td>20001218X45447</td>\n",
       "      <td>Fatal(4)</td>\n",
       "      <td>Airplane</td>\n",
       "      <td>Piper</td>\n",
       "      <td>PA24-180</td>\n",
       "      <td>No</td>\n",
       "      <td>1.0</td>\n",
       "      <td>Reciprocating</td>\n",
       "      <td>NaN</td>\n",
       "      <td>Personal</td>\n",
       "      <td>NaN</td>\n",
       "      <td>4.0</td>\n",
       "      <td>0.0</td>\n",
       "      <td>0.0</td>\n",
       "      <td>0.0</td>\n",
       "      <td>UNK</td>\n",
       "      <td>Unknown</td>\n",
       "    </tr>\n",
       "    <tr>\n",
       "      <th>2</th>\n",
       "      <td>20061025X01555</td>\n",
       "      <td>Fatal(3)</td>\n",
       "      <td>Airplane</td>\n",
       "      <td>Cessna</td>\n",
       "      <td>172M</td>\n",
       "      <td>No</td>\n",
       "      <td>1.0</td>\n",
       "      <td>Reciprocating</td>\n",
       "      <td>NaN</td>\n",
       "      <td>Personal</td>\n",
       "      <td>NaN</td>\n",
       "      <td>3.0</td>\n",
       "      <td>0.0</td>\n",
       "      <td>0.0</td>\n",
       "      <td>0.0</td>\n",
       "      <td>IMC</td>\n",
       "      <td>Cruise</td>\n",
       "    </tr>\n",
       "    <tr>\n",
       "      <th>3</th>\n",
       "      <td>20001218X45448</td>\n",
       "      <td>Fatal(2)</td>\n",
       "      <td>Airplane</td>\n",
       "      <td>Rockwell</td>\n",
       "      <td>112</td>\n",
       "      <td>No</td>\n",
       "      <td>1.0</td>\n",
       "      <td>Reciprocating</td>\n",
       "      <td>NaN</td>\n",
       "      <td>Personal</td>\n",
       "      <td>NaN</td>\n",
       "      <td>2.0</td>\n",
       "      <td>0.0</td>\n",
       "      <td>0.0</td>\n",
       "      <td>0.0</td>\n",
       "      <td>IMC</td>\n",
       "      <td>Cruise</td>\n",
       "    </tr>\n",
       "    <tr>\n",
       "      <th>4</th>\n",
       "      <td>20041105X01764</td>\n",
       "      <td>Fatal(1)</td>\n",
       "      <td>Airplane</td>\n",
       "      <td>Cessna</td>\n",
       "      <td>501</td>\n",
       "      <td>No</td>\n",
       "      <td>NaN</td>\n",
       "      <td>NaN</td>\n",
       "      <td>NaN</td>\n",
       "      <td>Personal</td>\n",
       "      <td>NaN</td>\n",
       "      <td>1.0</td>\n",
       "      <td>2.0</td>\n",
       "      <td>0.0</td>\n",
       "      <td>0.0</td>\n",
       "      <td>VMC</td>\n",
       "      <td>Approach</td>\n",
       "    </tr>\n",
       "  </tbody>\n",
       "</table>\n",
       "</div>"
      ],
      "text/plain": [
       "         Event.Id Injury.Severity Aircraft.Category      Make     Model  \\\n",
       "0  20001218X45444        Fatal(2)          Airplane   Stinson     108-3   \n",
       "1  20001218X45447        Fatal(4)          Airplane     Piper  PA24-180   \n",
       "2  20061025X01555        Fatal(3)          Airplane    Cessna      172M   \n",
       "3  20001218X45448        Fatal(2)          Airplane  Rockwell       112   \n",
       "4  20041105X01764        Fatal(1)          Airplane    Cessna       501   \n",
       "\n",
       "  Amateur.Built  Number.of.Engines    Engine.Type Schedule Purpose.of.flight  \\\n",
       "0            No                1.0  Reciprocating      NaN          Personal   \n",
       "1            No                1.0  Reciprocating      NaN          Personal   \n",
       "2            No                1.0  Reciprocating      NaN          Personal   \n",
       "3            No                1.0  Reciprocating      NaN          Personal   \n",
       "4            No                NaN            NaN      NaN          Personal   \n",
       "\n",
       "  Air.carrier  Total.Fatal.Injuries  Total.Serious.Injuries  \\\n",
       "0         NaN                   2.0                     0.0   \n",
       "1         NaN                   4.0                     0.0   \n",
       "2         NaN                   3.0                     0.0   \n",
       "3         NaN                   2.0                     0.0   \n",
       "4         NaN                   1.0                     2.0   \n",
       "\n",
       "   Total.Minor.Injuries  Total.Uninjured Weather.Condition  \\\n",
       "0                   0.0              0.0               UNK   \n",
       "1                   0.0              0.0               UNK   \n",
       "2                   0.0              0.0               IMC   \n",
       "3                   0.0              0.0               IMC   \n",
       "4                   0.0              0.0               VMC   \n",
       "\n",
       "  Broad.phase.of.flight  \n",
       "0                Cruise  \n",
       "1               Unknown  \n",
       "2                Cruise  \n",
       "3                Cruise  \n",
       "4              Approach  "
      ]
     },
     "execution_count": 122,
     "metadata": {},
     "output_type": "execute_result"
    }
   ],
   "source": [
    "df_us.head()"
   ]
  },
  {
   "cell_type": "markdown",
   "metadata": {},
   "source": [
    "# Exploratory Data Analysis"
   ]
  },
  {
   "cell_type": "markdown",
   "metadata": {},
   "source": [
    "First I plan on selecting the safest aircraft category by the number of engines. The more number of engines an aircraft has, the safer it is in flight. I'll create a bar chart that depicts number of engine per aircraft and fill NaN values as 1.0 because it is impossible for airplanes to fly without having at least 1 engine.\n",
    "\n",
    "Next I plan to examine the ratio of injury counts for each airplane make. The injury categories I'll measure by are total fatal injuries, total serious injuries, total minor injuries, and total uninjured. Visualizing this ratio will tell me which airplane make has the lowest injurity ratio.\n",
    "\n",
    "Lastly, I'll pick which model of the airplane's make has the lowest injury ratio. This is how I determine which airplane model is the safest to select."
   ]
  },
  {
   "cell_type": "code",
   "execution_count": 127,
   "metadata": {},
   "outputs": [],
   "source": [
    "#First convert NaN values from Number of Engines to 1\n",
    "df_us['Number.of.Engines'] = df_us['Number.of.Engines'].fillna(1.0)"
   ]
  },
  {
   "cell_type": "code",
   "execution_count": 130,
   "metadata": {},
   "outputs": [
    {
     "data": {
      "image/png": "[encoded data removed]",
      "text/plain": [
       "<Figure size 864x432 with 1 Axes>"
      ]
     },
     "metadata": {
      "needs_background": "light"
     },
     "output_type": "display_data"
    }
   ],
   "source": [
    "#Plot number of engines per aircraft category\n",
    "plt.figure(figsize=(12, 6))\n",
    "\n",
    "sns.barplot(x='Aircraft.Category', y='Number.of.Engines', data=df_us)\n",
    "\n",
    "plt.title('Number of Engines by Aircraft Category')\n",
    "plt.xlabel('Aircraft Category')\n",
    "plt.ylabel('Number of Engines')\n",
    "\n",
    "plt.xticks(rotation=45, ha='right')\n",
    "\n",
    "plt.show()"
   ]
  },
  {
   "cell_type": "code",
   "execution_count": 150,
   "metadata": {},
   "outputs": [
    {
     "name": "stdout",
     "output_type": "stream",
     "text": [
      "Airplane        27617\n",
      "Powered-Lift        5\n",
      "Blimp               4\n",
      "Name: Aircraft.Category, dtype: int64\n"
     ]
    }
   ],
   "source": [
    "#Showing count of top 3 categories of number of engines per Airplane, Blimp and Powered-Lift.\n",
    "#Airplanes are a better sample size, so we will select Airplanes.\n",
    "top3 = ['Airplane', 'Blimp', 'Powered-Lift']\n",
    "\n",
    "category_counts = df[df['Aircraft.Category'].isin(top3)]['Aircraft.Category'].value_counts()\n",
    "\n",
    "print(category_counts)"
   ]
  },
  {
   "cell_type": "code",
   "execution_count": 151,
   "metadata": {},
   "outputs": [
    {
     "data": {
      "text/plain": [
       "Airplane    78323\n",
       "Name: Aircraft.Category, dtype: int64"
      ]
     },
     "execution_count": 151,
     "metadata": {},
     "output_type": "execute_result"
    }
   ],
   "source": [
    "#It is clear that Powered-Lifts and Blimps do not have a large enough sample size compared to Airplanes.\n",
    "#Now lets create a new dataframe to make our ratio calculations easier.\n",
    "df_airplanes = df_us[df_us['Aircraft.Category'] == 'Airplane']\n",
    "df_airplanes['Aircraft.Category'].value_counts()"
   ]
  },
  {
   "cell_type": "code",
   "execution_count": 156,
   "metadata": {},
   "outputs": [
    {
     "name": "stdout",
     "output_type": "stream",
     "text": [
      "         count     sum     Ratio\n",
      "Make                            \n",
      "Cessna   21573  6480.0  0.300375\n",
      "Piper    11661  4863.0  0.417031\n",
      "CESSNA    4280  1061.0  0.247897\n",
      "Beech     4167  2631.0  0.631389\n",
      "PIPER     2507   785.0  0.313123\n",
      "Bell      1609   534.0  0.331883\n",
      "Boeing    1161  1322.0  1.138674\n",
      "Grumman   1076   190.0  0.176580\n",
      "Mooney    1074   528.0  0.491620\n",
      "BEECH      892   486.0  0.544843\n"
     ]
    }
   ],
   "source": [
    "#Get the ratios of total fatal injuries per Make\n",
    "result_df1 = df_airplanes.groupby('Make')['Total.Fatal.Injuries'].agg(['count', 'sum'])\n",
    "\n",
    "result_df1['Ratio'] = result_df1['sum'] / result_df1['count']\n",
    "\n",
    "#Get the top 10 highest counts, or else there will be too many rows/Makes to select from\n",
    "top_10 = result_df1.nlargest(10, 'count')\n",
    "\n",
    "print(top_10)"
   ]
  },
  {
   "cell_type": "code",
   "execution_count": 157,
   "metadata": {},
   "outputs": [
    {
     "name": "stdout",
     "output_type": "stream",
     "text": [
      "         count     sum     Ratio\n",
      "Make                            \n",
      "Cessna   21573  3322.0  0.153989\n",
      "Piper    11661  2349.0  0.201441\n",
      "CESSNA    4280  1155.0  0.269860\n",
      "Beech     4167   804.0  0.192945\n",
      "PIPER     2507   607.0  0.242122\n",
      "Bell      1609   458.0  0.284649\n",
      "Boeing    1161   487.0  0.419466\n",
      "Grumman   1076   136.0  0.126394\n",
      "Mooney    1074   195.0  0.181564\n",
      "BEECH      892   220.0  0.246637\n"
     ]
    }
   ],
   "source": [
    "#Get the ratios of total serious injuries per Make\n",
    "result_df2 = df_airplanes.groupby('Make')['Total.Serious.Injuries'].agg(['count', 'sum'])\n",
    "\n",
    "result_df2['Ratio'] = result_df2['sum'] / result_df2['count']\n",
    "\n",
    "#Get the top 10 highest counts, or else there will be too many rows/Makes to select from\n",
    "top_10_2 = result_df2.nlargest(10, 'count')\n",
    "\n",
    "print(top_10_2)"
   ]
  },
  {
   "cell_type": "code",
   "execution_count": 158,
   "metadata": {},
   "outputs": [
    {
     "name": "stdout",
     "output_type": "stream",
     "text": [
      "         count     sum     Ratio\n",
      "Make                            \n",
      "Cessna   21573  5842.0  0.270801\n",
      "Piper    11661  3180.0  0.272704\n",
      "CESSNA    4280   554.0  0.129439\n",
      "Beech     4167  1106.0  0.265419\n",
      "PIPER     2507   405.0  0.161548\n",
      "Bell      1609   771.0  0.479180\n",
      "Boeing    1161  1417.0  1.220500\n",
      "Grumman   1076   241.0  0.223978\n",
      "Mooney    1074   324.0  0.301676\n",
      "BEECH      892   178.0  0.199552\n"
     ]
    }
   ],
   "source": [
    "#Get the ratios of total minor injuries per Make\n",
    "result_df3 = df_airplanes.groupby('Make')['Total.Minor.Injuries'].agg(['count', 'sum'])\n",
    "\n",
    "result_df3['Ratio'] = result_df3['sum'] / result_df3['count']\n",
    "\n",
    "#Get the top 10 highest counts, or else there will be too many rows/Makes to select from\n",
    "top_10_3 = result_df3.nlargest(10, 'count')\n",
    "\n",
    "print(top_10_3)"
   ]
  },
  {
   "cell_type": "code",
   "execution_count": null,
   "metadata": {},
   "outputs": [],
   "source": [
    "#Grumman appears to be the safest Make with the lowest total fatal injury and serious injury count among the top 10 Makes.\n",
    "#Grumman may not have the lowest minor injury count, but this is not weighed as heavily as fatal and serious injuries.\n",
    "#Now I'm going to figure out which Grumman Model is the safest."
   ]
  },
  {
   "cell_type": "code",
   "execution_count": 159,
   "metadata": {},
   "outputs": [
    {
     "data": {
      "text/plain": [
       "Grumman    1076\n",
       "Name: Make, dtype: int64"
      ]
     },
     "execution_count": 159,
     "metadata": {},
     "output_type": "execute_result"
    }
   ],
   "source": [
    "#Now I'll create a dataframe of just Grumman Makes and look at the injury counts for various Grumman Models\n",
    "df_grumman = df_airplanes[df_airplanes['Make'] == 'Grumman']\n",
    "df_grumman['Make'].value_counts()"
   ]
  },
  {
   "cell_type": "code",
   "execution_count": 161,
   "metadata": {},
   "outputs": [
    {
     "name": "stdout",
     "output_type": "stream",
     "text": [
      "        count   sum     Ratio\n",
      "Model                        \n",
      "G-164A    353  17.0  0.048159\n",
      "G-164B    188  13.0  0.069149\n",
      "G-164      94   5.0  0.053191\n",
      "AA-5B      41  11.0  0.268293\n",
      "AA-5A      38  10.0  0.263158\n",
      "G164       25   3.0  0.120000\n",
      "AA-1B      24   7.0  0.291667\n",
      "AA-5       22   6.0  0.272727\n",
      "G164B      21   0.0  0.000000\n",
      "G164A      19   5.0  0.263158\n"
     ]
    }
   ],
   "source": [
    "#Get the ratios of total fatal injuries per Grumman Model\n",
    "result_df4 = df_grumman.groupby('Model')['Total.Fatal.Injuries'].agg(['count', 'sum'])\n",
    "\n",
    "result_df4['Ratio'] = result_df4['sum'] / result_df4['count']\n",
    "\n",
    "#Get the top 10 highest counts, or else there will be too many rows/Makes to select from\n",
    "top_10_4 = result_df4.nlargest(10, 'count')\n",
    "\n",
    "print(top_10_4)"
   ]
  },
  {
   "cell_type": "code",
   "execution_count": 164,
   "metadata": {},
   "outputs": [
    {
     "name": "stdout",
     "output_type": "stream",
     "text": [
      "        count   sum     Ratio\n",
      "Model                        \n",
      "G-164A    353  28.0  0.079320\n",
      "G-164B    188  14.0  0.074468\n",
      "G-164      94  14.0  0.148936\n",
      "AA-5B      41   5.0  0.121951\n",
      "AA-5A      38  13.0  0.342105\n",
      "G164       25   5.0  0.200000\n",
      "AA-1B      24   4.0  0.166667\n",
      "AA-5       22   6.0  0.272727\n",
      "G164B      21   0.0  0.000000\n",
      "G164A      19   0.0  0.000000\n"
     ]
    }
   ],
   "source": [
    "#Get the ratios of total serious injuries per Grumman Model\n",
    "result_df5 = df_grumman.groupby('Model')['Total.Serious.Injuries'].agg(['count', 'sum'])\n",
    "\n",
    "result_df5['Ratio'] = result_df5['sum'] / result_df5['count']\n",
    "\n",
    "#Get the top 10 highest counts, or else there will be too many rows/Makes to select from\n",
    "top_10_5 = result_df5.nlargest(10, 'count')\n",
    "\n",
    "print(top_10_5)"
   ]
  },
  {
   "cell_type": "code",
   "execution_count": 165,
   "metadata": {},
   "outputs": [
    {
     "name": "stdout",
     "output_type": "stream",
     "text": [
      "        count   sum     Ratio\n",
      "Model                        \n",
      "G-164A    353  52.0  0.147309\n",
      "G-164B    188  21.0  0.111702\n",
      "G-164      94  15.0  0.159574\n",
      "AA-5B      41   7.0  0.170732\n",
      "AA-5A      38  15.0  0.394737\n",
      "G164       25   3.0  0.120000\n",
      "AA-1B      24  11.0  0.458333\n",
      "AA-5       22  10.0  0.454545\n",
      "G164B      21   2.0  0.095238\n",
      "G164A      19   2.0  0.105263\n"
     ]
    }
   ],
   "source": [
    "#Get the ratios of total minor injuries per Grumman Model\n",
    "result_df6 = df_grumman.groupby('Model')['Total.Minor.Injuries'].agg(['count', 'sum'])\n",
    "\n",
    "result_df6['Ratio'] = result_df6['sum'] / result_df6['count']\n",
    "\n",
    "#Get the top 10 highest counts, or else there will be too many rows/Makes to select from\n",
    "top_10_6 = result_df6.nlargest(10, 'count')\n",
    "\n",
    "print(top_10_6)"
   ]
  },
  {
   "cell_type": "markdown",
   "metadata": {},
   "source": [
    "## Conclusions"
   ]
  },
  {
   "cell_type": "markdown",
   "metadata": {},
   "source": [
    "I've determined which aircraft category to select based on number of engines while keeping sample size count. I've chosen airplanes as my selected aircraft category.\n",
    "\n",
    "After selecting airplanes, I then chose my selected Airplane Make by creating injury ratios (fatal, serious and minor) of various Makes with the top 10 highest sample size counts to select my safest Make. I determined Grumman Makes had the lowest overall injury ratios, while weighing in fatal and serious ratios more heavily than minor injuries.\n",
    "\n",
    "After creating these ratios I looked into specific Grumman models and performed the same ratio analysis for injury ratios (fatal, serious and minor) for the top 10 Grumman models. While keeping in mind sample size and weighing more heavily on the fatal and serious injury ratios - I've determined Grumman G-164A airplane is the safest aircraft to purchase."
   ]
  },
  {
   "cell_type": "markdown",
   "metadata": {},
   "source": [
    "## Limitations"
   ]
  },
  {
   "cell_type": "markdown",
   "metadata": {},
   "source": [
    "Some limitations of this study include:\n"
   ]
  },
  {
   "cell_type": "markdown",
   "metadata": {},
   "source": [
    "## Recommendations"
   ]
  },
  {
   "cell_type": "markdown",
   "metadata": {},
   "source": []
  },
  {
   "cell_type": "markdown",
   "metadata": {},
   "source": [
    "## Next Steps"
   ]
  },
  {
   "cell_type": "markdown",
   "metadata": {},
   "source": []
  }
 ],
 "metadata": {
  "kernelspec": {
   "display_name": "Python (learn-env)",
   "language": "python",
   "name": "learn-env"
  },
  "language_info": {
   "codemirror_mode": {
    "name": "ipython",
    "version": 3
   },
   "file_extension": ".py",
   "mimetype": "text/x-python",
   "name": "python",
   "nbconvert_exporter": "python",
   "pygments_lexer": "ipython3",
   "version": "3.8.5"
  }
 },
 "nbformat": 4,
 "nbformat_minor": 4
}
